{
  "nbformat": 4,
  "nbformat_minor": 0,
  "metadata": {
    "colab": {
      "name": "one_neuron_to_another_PokerHands.ipynb",
      "provenance": [],
      "collapsed_sections": [
        "lvxWPmRlQsVW",
        "0t1I2ecTQj34"
      ]
    },
    "kernelspec": {
      "display_name": "Python 3",
      "name": "python3"
    },
    "language_info": {
      "name": "python"
    },
    "accelerator": "TPU"
  },
  "cells": [
    {
      "cell_type": "markdown",
      "metadata": {
        "id": "lvxWPmRlQsVW"
      },
      "source": [
        "## Importing Libraries\n",
        "\n",
        "Importing pandas for data handling, and numpy for math <br>\n",
        "Using Plot style fivethirtyeight"
      ]
    },
    {
      "cell_type": "code",
      "metadata": {
        "id": "h73neoXmsYQx"
      },
      "source": [
        "# Importing libraries required to handle the data and matrix calculations\n",
        "import pandas as pd\n",
        "import numpy as np\n",
        "\n",
        "# Importing libraries required for visualization\n",
        "import matplotlib.pyplot as plt\n",
        "\n",
        "# Importing libraries required for importing the data\n",
        "from google.colab import files\n",
        "import io\n",
        "\n",
        "# For time measurements\n",
        "import time\n",
        "\n",
        "# Using plot style from fivethirtyeight\n",
        "plt.style.use('fivethirtyeight')"
      ],
      "execution_count": 1,
      "outputs": []
    },
    {
      "cell_type": "markdown",
      "metadata": {
        "id": "0t1I2ecTQj34"
      },
      "source": [
        "## Neuron and Layers\n",
        "\n",
        "* **Neuron Class:** The neuron class is just a representation of a neuron with a bias and some incoming weights\n",
        "\n",
        "* **Neuron Layer Class:** The layer class initializes a fully connected layer (Dense layer)based on the inputs and the number of neurons in a layer, uses the Neuron base class for neuron representation\n",
        "\n",
        "The weight initialization is from the standard normal distribution ~ N(0,1).\n",
        "\n",
        "The Bias is initialized with 0.\n",
        "\n",
        "The Neuron Layer has the following properties:\n",
        "* The Weights matrix shape is : [inputs x number of neurons in this layer]\n",
        "* The biases in a layer, we have one bias per neuron and so the shape is: \n",
        "[1 x number of neurons in this layer]\n",
        "* The fire function: Takes in the inputs and fires the layer, i.e. calculates the weighted sum of incoming weights and the input, adds the bias to get the output for the layer. Also calculates the activation,a dn the gradient of the activation\n",
        "* ReLU (Rectified Linear Unit) activation function: f(x) = {0 if x<= 0; and x if x > 0}\n",
        "* ReLU gradient: Assuming the derivative for RelU at 0 is 0,a s it approaches 0\n",
        "* Other helper functions for getting and setting weights and biases\n"
      ]
    },
    {
      "cell_type": "code",
      "metadata": {
        "id": "AgTW38IHuYpl"
      },
      "source": [
        "class Neuron:\n",
        "  def __init__(self, w = None, b = None):\n",
        "    self.weights = w\n",
        "    self.bias = b\n",
        "\n",
        "  def update(self, w, b):\n",
        "    self.weights = w\n",
        "    self.bias = b\n",
        "\n",
        "  def __repr__(self):\n",
        "    return f\"{{My Bias = {self.bias} | Incoming Weights: {self.weights}}}\"\n",
        "\n",
        "class NeuronLayer:\n",
        "  # Every layer has an input vector (x: previous layer output shape (nodes)) and an output vector (y: This layer output shape (nodes/workers))\n",
        "  def __init__(self,n_inputs,n_neurons, weights = [], biases = []):\n",
        "    self.input_nodes = n_inputs # Nodes in the previous layer (as they are input to this layer)\n",
        "    self.output_nodes = n_neurons # Nodes in the layer\n",
        "    \n",
        "    if len(weights) == 0: # If no weights were provided\n",
        "      self.weights = np.random.rand(self.input_nodes,self.output_nodes)\n",
        "    else:\n",
        "      self.weights = weights\n",
        "\n",
        "    if len(biases) == 0: # If no biases were provided\n",
        "      # self.biases = np.random.randn(1,self.output_nodes)\n",
        "      self.biases = np.zeros((1,self.output_nodes))\n",
        "    else:\n",
        "      self.biases = biases\n",
        "\n",
        "    # Creating the specific layer with the weights and biases for the Neurons\n",
        "    self.layer = [Neuron(w,b) for b,w in zip(self.biases[0], self.weights.T)]\n",
        "\n",
        "  def fire(self,training_input,activationFunction, gradientFunction):\n",
        "    self.output = np.dot(training_input, self.weights) + self.biases\n",
        "    self.activated_output = np.array([[activationFunction(c) for c in r] for r in self.output])\n",
        "    self.activation_gradient = np.array([[gradientFunction(c) for c in r] for r in self.output])\n",
        "\n",
        "  # Using Rectified Linear Unit activation function, if the value is negative return 0 otherwise unchanged value\n",
        "  # f(x) = {0 if x<= 0; and x if x > 0}\n",
        "  # Implementation is just a max{0,value}\n",
        "  def relu(self,x):\n",
        "    return np.maximum(0,x)\n",
        "\n",
        "  # The derivative for f(x) = {0 if x <= 0; and x if x > 0}\n",
        "  # f'(x) = { 0 if x <= 0; and 1 if x > 0} assuming the derivative for relu at 0 is 0 (as its approaching 0)\n",
        "  def reluGradient(self,x):\n",
        "    if x <= 0:\n",
        "      return 0\n",
        "    return 1\n",
        "\n",
        "  # Helper functions to adjust/update the weights and biases\n",
        "  def getWeights(self):\n",
        "    return self.weights\n",
        "  def getBiases(self):\n",
        "    return self.biases\n",
        "  def setWeights(self,new_weights):\n",
        "    self.weights = new_weights\n",
        "  def setBiases(self,new_biases):\n",
        "    self.biases = new_biases\n",
        "\n",
        "  def updateLayer(self):\n",
        "    for i,b,w in zip(range(self.output_nodes), self.biases[0], self.weights.T):\n",
        "      self.layer[i].update(w,b) \n",
        "\n",
        "  def __repr__(self):\n",
        "    return f\"\\n{self.layer}\""
      ],
      "execution_count": 2,
      "outputs": []
    },
    {
      "cell_type": "markdown",
      "metadata": {
        "id": "YEO7IftDQgPG"
      },
      "source": [
        "## Neural Network\n",
        "\n",
        "The Neural Network class uses the Neuron layer class defined above to create a network of layers.\n",
        "\n",
        "The input layer is created for representation purposes as it does nothing in the calculations as it has no incoming weights or biases.\n",
        "\n",
        "The initialization of the Neural Network requires a list of neurons per layer, with the list provided the input, hidden and output layers are created.\n",
        "\n",
        "The training of a neural network has 2 steps:\n",
        "* Feed forward: In this step we just feed the data forward, starting from the provided input, the first hidden layer is given that input, the layer is fired where the activations are calculated, these output activation of this layer is used as the input for the next layer, and hence feed forward.\n",
        "\n",
        "* Backpropagation: This is the main step where the error is calculated from the given labels and predicted output. With this error we calculate the gradient descent for the error (loss) function. \n",
        "\n",
        "The gradient descent for the output layer = \n",
        "error_derivative * activation_derivative\n",
        "\n",
        "For weights: the Input to this layer is multiplied to get the weighted error based on the inputs, that is which input mattered more in this calculations and so which weights need to change more than others. It is then multiplied with learning rate to control the changes.\n",
        "\n",
        "For biases: The gradient descent is summed up along the axis and then we have the biases per node based on the error and the learning rate.\n",
        "\n",
        "Loss Functions:\n",
        "Used basic squared error as it gives positive results, also tried mean squarred error and root mean squarred error.\n",
        "The functions and their derivaties are used to calculate the gradient descent\n",
        "\n",
        "The Fit Function: Takes input the whole training data, number of epochs, learning rate, error threshold and mini batch size.\n",
        "\n",
        "Given these parameters, the fit function runs a loop for all the epochs.\n",
        "\n",
        "    For every epoch:\n",
        "      The training data is shuffled,\n",
        "      The data is split into mini batches of the provided size,\n",
        "      for every mini batch:\n",
        "        We feed forward the mini batch and the error is calculated\n",
        "        The error is backpropagated\n",
        "    The netowrk weights and biases are updated once the training is complete.\n",
        "    The fit method returns an array with errors for every epoch."
      ]
    },
    {
      "cell_type": "code",
      "metadata": {
        "id": "WHVvxs11s5gp"
      },
      "source": [
        "class NN:\n",
        "  # layer_sizes format is a list of number of neurons per layer for example => [2,3,1] 2 input neurons, 3 hidden neurons and 1 output neuron\n",
        "  def __init__(self,layer_sizes):\n",
        "    # Network parameters initialization\n",
        "    self.network_size = len(layer_sizes)\n",
        "    self.input_nodes = layer_sizes[0]\n",
        "    self.output_nodes = layer_sizes[self.network_size-1]\n",
        "    self.hidden_layers = [None for _ in range(self.network_size-2)]\n",
        "    self.layers = []\n",
        "\n",
        "    # Initializing Network architecture/layers\n",
        "    # For the provided structure we create the nodes/workers\n",
        "    # The input layer is easy as it only has nodes for every input with no incomming weights and biases of its own\n",
        "    # Creating this layer for representation purposes, doesnt have any work in the neural networks calculations\n",
        "    self.input_layer = [Neuron() for _ in range(self.input_nodes)]\n",
        "    \n",
        "    # Creating Hidden layers\n",
        "    for i in range(self.network_size -2): # Starting from 0 as input to first hidden layer is from the input layer\n",
        "      self.hidden_layers[i] = NeuronLayer(layer_sizes[i],layer_sizes[i+1])\n",
        "      self.layers.append(self.hidden_layers[i])\n",
        "\n",
        "    # Creating Output Layer\n",
        "    self.output_layer = NeuronLayer(layer_sizes[self.network_size-2],self.output_nodes)\n",
        "    self.layers.append(self.output_layer)\n",
        "\n",
        "  def epochRange(self, start, epochs):\n",
        "    epoch = start\n",
        "    while epoch < epochs:\n",
        "      yield (epoch)\n",
        "      epoch += 1\n",
        "\n",
        "  def squaredError(self, predicted, true):\n",
        "    error = 0.5*(true - predicted)**2\n",
        "    return np.sum(error)\n",
        "\n",
        "  def squaredGradient(self, predicted, true):\n",
        "    return (true - predicted)\n",
        "\n",
        "  # A mean squared cost function, takes the mean of the error term that is the squared diffrence between the predicted and expected value\n",
        "  # mse = sum((x_true - x_predicted)^2)/2N = mean(0.5*(x_true - x_predicted)^2)\n",
        "  def meanSquaredError(self,predicted,true):\n",
        "    # Calculating the error\n",
        "    error = true - predicted # [[predicted_i1, predicted_i2, ..., predicted_in]...] -[[true_i1, true_i2, ..., true_in]...] shape: rows=> number of samples in batch (b); col=> input features (n); => [b x n] matrix\n",
        "    error = 0.5 * np.power(error, 2) # Squarred error [[error_sample1]**2,[error_sample2]**2, ..., [error_samplen]**2] => [b x n] matrix\n",
        "    return np.mean(error) # Mean of the squared error within a batch, does nothing if batch size is 1 that is 1 sample at a time\n",
        "\n",
        "  # The derivative of mse = sum((x_true - x_predicted)^2)/2N\n",
        "  # mse' = (x_true - x_predicted)/N\n",
        "  # Similar implementation as the mean squared error\n",
        "  def mseGradient(self,predicted,true):\n",
        "    error = true - predicted # [[predicted_i1, predicted_i2, ..., predicted_in]...] -[[true_i1, true_i2, ..., true_in]...] shape: number of samples in batch (b) x input features (n); => [b x n] matrix\n",
        "    return error/true.size # Mean of the error within a batch, does nothing if batch size is 1 that is 1 sample at a time\n",
        "\n",
        "  # Another cost function, takes the root of the mean squarred error\n",
        "  def rootMeanSquaredError(self,predicted,true):\n",
        "    # Calculating the error\n",
        "    error = true - predicted # [[predicted_i1, predicted_i2, ..., predicted_in]...] -[[true_i1, true_i2, ..., true_in]...] shape: rows=> number of samples in batch (b); col=> input features (n); => [b x n] matrix\n",
        "    error = np.power(error, 2) # Squarred error [[error_sample1]**2,[error_sample2]**2, ..., [error_samplen]**2] => [b x n] matrix\n",
        "    return np.sqrt(np.mean(error)) # the square root of the mean squared error\n",
        "\n",
        "  # The derivative for the rmse function\n",
        "  def rmseGradient(self,predicted,true):\n",
        "    return self.mseGradient(predicted,true)/(2*self.rootMeanSquarredError(predicted,true)) # d(rmse)/d(prev_activation) = (1/2*rmse)*mseGradient()\n",
        "    \n",
        "  def gradientDescent(self,error_gradient, activation_gradient):\n",
        "    return error_gradient*activation_gradient\n",
        "\n",
        "  def feedForward(self, training_batch):\n",
        "    inp = training_batch # Input Layer\n",
        "\n",
        "    for i in self.epochRange(0,self.network_size-2): # For every hidden layer (Total network layers - input layer - output layer)\n",
        "      self.hidden_layers[i].fire(inp, self.hidden_layers[i].relu, self.hidden_layers[i].reluGradient)\n",
        "      inp = self.hidden_layers[i].activated_output # Feeding the output forward as input\n",
        "    \n",
        "    # output layer (input is the output from the last layer (input/hidden layer))\n",
        "    self.output_layer.fire(inp, self.output_layer.relu, self.output_layer.reluGradient)\n",
        "    # print(f\"Final output: {self.output_layer.activated_output}\")\n",
        "\n",
        "  # Going in reverse from the output layer to the first hidden layer in the network\n",
        "  def backPropagation(self, training_batch, labels, lr, threshold, prev_error):\n",
        "    # Calculating the error and the error gradient (the direction of the gradient ascent)\n",
        "    error = self.squaredError(self.output_layer.activated_output,labels)\n",
        "    error_gradient = self.squaredGradient(self.output_layer.activated_output,labels)\n",
        "    # error = self.meanSquaredError(self.output_layer.activated_output,labels)\n",
        "    # error_gradient = self.mseGradient(self.output_layer.activated_output,labels)\n",
        "\n",
        "    # Calculating the asjustments for the output layer based on the error and the output layer activation gradient\n",
        "    adjustments = self.gradientDescent(error_gradient, self.output_layer.activation_gradient)\n",
        "    \n",
        "    if self.network_size > 2: # If there is a hidden layer\n",
        "      last_input = self.hidden_layers[-1].activated_output # The activated output of the last hidden layer\n",
        "    else:\n",
        "      last_input = training_batch # No hidden layer, the output layer is the only layer in the network\n",
        "\n",
        "    # Calculating output layer adjustments based on the loss\n",
        "    adjustments_wo = np.dot(last_input.T, adjustments) * lr\n",
        "    output_bias = np.sum(adjustments,axis=0,keepdims=True) * lr\n",
        "\n",
        "    adjustments_wh = []\n",
        "    hidden_bias = []\n",
        "    runCount = 0\n",
        "\n",
        "    # For hidden layers, the adjustments from the previous layer is used and multiplied with the weights to get the gradient of cost with respect to the previous activation\n",
        "    for i in range(self.network_size-3, -1, -1): # For every hidden layer (Total network layers - input layer - output layer)\n",
        "      if runCount != 0:\n",
        "        # Following hidden layers towards input layers\n",
        "        adjustments = np.dot(adjustments, self.hidden_layers[i+1].weights.T)\n",
        "        adjustments = adjustments * self.hidden_layers[i].activation_gradient\n",
        "      else:\n",
        "        # Last Hidden layer adjustments\n",
        "        adjustments = np.dot(adjustments, self.output_layer.weights.T)\n",
        "        adjustments = adjustments * self.hidden_layers[i].activation_gradient\n",
        "        \n",
        "      if i > 0: # If there are hidden layers\n",
        "        last_input = self.hidden_layers[i-1].activated_output # The activated output of the previous hidden layer\n",
        "      else: # First hidden layer takes the provided input\n",
        "        last_input = training_batch # No hidden layer, the output layer is the only layer in the network\n",
        "\n",
        "      runCount += 1\n",
        "      adjustments_wh.append(np.dot(last_input.T, adjustments) * lr)\n",
        "      hidden_bias.append(np.sum(adjustments,axis=0,keepdims=True) * lr)\n",
        "      \n",
        "\n",
        "    # Updating the weights and biases from the calculated adjustments\n",
        "    self.output_layer.setWeights(self.output_layer.getWeights() + adjustments_wo)\n",
        "    self.output_layer.setBiases(self.output_layer.getBiases() + output_bias)\n",
        "\n",
        "    for i,wh,bh in zip(range(self.network_size-3, -1, -1),adjustments_wh,hidden_bias):\n",
        "      self.hidden_layers[i].setWeights(self.hidden_layers[i].getWeights() + wh)\n",
        "      self.hidden_layers[i].setBiases(self.hidden_layers[i].getBiases() + bh)\n",
        "\n",
        "    return error\n",
        "\n",
        "  def fit(self,X_train,labels,epochs, mini_batch_size = 32,learningRate = 1e-1, threshold = 1e-5):\n",
        "    lr = learningRate # Learning rate\n",
        "    error = np.zeros((epochs+1,1))\n",
        "    error[0] = np.inf # Starting with a very high error,a nd minimizing this using gradient descent\n",
        "    training_data = np.hstack((X_train,labels))\n",
        "    n = len(training_data)\n",
        "    for epoch in self.epochRange(1,epochs+1): # For every epoch\n",
        "      print(f\"Epoch: {epoch} => \", end = \"\")\n",
        "      start = time.time()\n",
        "\n",
        "      # Shuffling the data and creating mini batches\n",
        "      np.random.shuffle(training_data)\n",
        "      mini_batches = [training_data[k:k+mini_batch_size] for k in range(0, n, mini_batch_size)]\n",
        "      m_count = 0\n",
        "\n",
        "      for mini_batch in mini_batches: # For every mini batch\n",
        "        if m_count % mini_batch_size == 0:\n",
        "          print(\".\", end=\"\")\n",
        "        training_batch = mini_batch[:,:-self.output_layer.output_nodes] # Shuffled X_train\n",
        "        training_labels = np.array([mini_batch[:,-self.output_layer.output_nodes]]).T # Shuffled Y_train\n",
        "\n",
        "        # Run the feed forward\n",
        "        self.feedForward(training_batch)\n",
        "\n",
        "        #Calculating error and backpropogating the updates\n",
        "        error[epoch] += self.backPropagation(training_batch, training_labels, learningRate, threshold, error[epoch-1])\n",
        "        m_count += 1\n",
        "\n",
        "      end = time.time()\n",
        "      print(f\" => Error: {error[epoch,0]}; \", end = \"\")\n",
        "      print(f\"Time taken: {end - start} seconds\")\n",
        "\n",
        "    self.updateNetwork() # Updating the wholel network with the final weights and biases calculated\n",
        "    return error[1:epoch+1]\n",
        "\n",
        "  # Updates the network, sets the final values of the neuron after all backpropogation through every epoch. Only required for final representation of the network, as it updates all the neurons in every layer\n",
        "  def updateNetwork(self):\n",
        "    self.output_layer.updateLayer() # Updating the output layer neurons\n",
        "    for i in self.epochRange(0,self.network_size-2): # For every hidden layer (Total network layers - input layer - output layer)\n",
        "      self.hidden_layers[i].updateLayer() # Updating the hidden layer neurons\n",
        "\n",
        "  def classify(self, x):\n",
        "    if x >= 0.5:\n",
        "      return 1\n",
        "    return 0\n",
        "  def __repr__(self):\n",
        "    if self.network_size > 2:\n",
        "      return f\"Neural Network Architecture \\n\\nInput Layer=> \\n{self.input_layer} \\n\\nHidden Layers=> {self.hidden_layers} \\n\\nOutput Layer=> {self.output_layer} \\n\"\n",
        "    return f\"Neural Network Architecture \\n\\nInput Layer=> \\n{self.input_layer} \\n\\nOutput Layer=> {self.output_layer} \\n\""
      ],
      "execution_count": 3,
      "outputs": []
    },
    {
      "cell_type": "markdown",
      "metadata": {
        "id": "BLeCr2NoQVIh"
      },
      "source": [
        "##Loading and Pre-Processing the dataset\n",
        "\n",
        "Reading the 5 Suites and 5 Cards and their respective class\n",
        "\n",
        "Cleaning the dataset, Dropping rows with NA values and resetting index\n",
        "\n",
        "Scaling the values for better training, and splitting into train and test datasets."
      ]
    },
    {
      "cell_type": "code",
      "metadata": {
        "colab": {
          "resources": {
            "http://localhost:8080/nbextensions/google.colab/files.js": {
              "data": "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",
              "ok": true,
              "headers": [
                [
                  "content-type",
                  "application/javascript"
                ]
              ],
              "status": 200,
              "status_text": ""
            }
          },
          "base_uri": "https://localhost:8080/",
          "height": 107
        },
        "id": "R6oFzgNG8YFR",
        "outputId": "51abc3db-fc40-48a5-a6c9-9d69360ec669"
      },
      "source": [
        "uploaded = files.upload()"
      ],
      "execution_count": 4,
      "outputs": [
        {
          "output_type": "display_data",
          "data": {
            "text/html": [
              "\n",
              "     <input type=\"file\" id=\"files-d99d493d-e097-4a15-acda-4c51d3121a53\" name=\"files[]\" multiple disabled\n",
              "        style=\"border:none\" />\n",
              "     <output id=\"result-d99d493d-e097-4a15-acda-4c51d3121a53\">\n",
              "      Upload widget is only available when the cell has been executed in the\n",
              "      current browser session. Please rerun this cell to enable.\n",
              "      </output>\n",
              "      <script src=\"/nbextensions/google.colab/files.js\"></script> "
            ],
            "text/plain": [
              "<IPython.core.display.HTML object>"
            ]
          },
          "metadata": {
            "tags": []
          }
        },
        {
          "output_type": "stream",
          "text": [
            "Saving poker-hand-testing.data to poker-hand-testing.data\n",
            "Saving poker-hand-training-true.data to poker-hand-training-true.data\n"
          ],
          "name": "stdout"
        }
      ]
    },
    {
      "cell_type": "code",
      "metadata": {
        "id": "BxewzCcm_qls"
      },
      "source": [
        "training_path = io.BytesIO(uploaded['poker-hand-training-true.data'])\n",
        "testing_path = io.BytesIO(uploaded['poker-hand-testing.data'])\n",
        "df_train = pd.read_csv(training_path, header = None, names = ['S1', 'C1', 'S2', 'C2', 'S3', 'C3', 'S4', 'C4', 'S5', 'C5', 'Class'])\n",
        "df_test = pd.read_csv(testing_path, header = None, names = ['S1', 'C1', 'S2', 'C2', 'S3', 'C3', 'S4', 'C4', 'S5', 'C5', 'Class'])\n",
        "df_train = df_train.sample(frac=1).reset_index(drop=True) # Shuffling the training data"
      ],
      "execution_count": 5,
      "outputs": []
    },
    {
      "cell_type": "code",
      "metadata": {
        "id": "uLhfUzHBBjWi",
        "colab": {
          "base_uri": "https://localhost:8080/",
          "height": 204
        },
        "outputId": "31c07b22-76c1-403f-aabf-b88c501358e8"
      },
      "source": [
        "# Poker Hands dataset\n",
        "df = df_train.copy()\n",
        "\n",
        "target = 'Class'\n",
        "predictors = list(df.columns)\n",
        "predictors.remove(target)\n",
        "\n",
        "suites = ['S1', 'S2', 'S3', 'S4', 'S5']\n",
        "cards = ['C1', 'C2', 'C3', 'C4', 'C5']\n",
        "\n",
        "suitesNorm = df_train['S1'].max() # Suite values=> [1,2,3,4] \n",
        "cardsNorm = df_train['C1'].max() # Card values=> [1,2,3,4,5,6,7,8,9,10,11,12,13]\n",
        "classNorm = df_train['Class'].max() # Class values=> [0,1,2,3,4,5,6,7,8,9]\n",
        "\n",
        "for s in suites: # => dividing by 4 => [0.25,0.5,0.75,1]\n",
        "  df[s] = df[s]/suitesNorm\n",
        "\n",
        "for c in cards: # dividing the values by 13 => so they are between [0,1]\n",
        "  df[c] = df[c]/cardsNorm\n",
        "\n",
        "# Scaling the target values in range [0,1]\n",
        "df[target] = df[target]/classNorm\n",
        "\n",
        "X = df[predictors].values # Scaled Features\n",
        "y = np.array([df[target].values]).T # Target values\n",
        "\n",
        "train_len = round(0.8*len(X)) # 80-20 split for train and test dataset\n",
        "X_train = X[:train_len] # Features to train on\n",
        "y_train = y[:train_len] # Target values for backpropagation\n",
        "\n",
        "X_test = X[train_len:] # Features to test on\n",
        "y_test = y[train_len:] # Target values for performance testing (accuracy/error)\n",
        "\n",
        "df.head()"
      ],
      "execution_count": 6,
      "outputs": [
        {
          "output_type": "execute_result",
          "data": {
            "text/html": [
              "<div>\n",
              "<style scoped>\n",
              "    .dataframe tbody tr th:only-of-type {\n",
              "        vertical-align: middle;\n",
              "    }\n",
              "\n",
              "    .dataframe tbody tr th {\n",
              "        vertical-align: top;\n",
              "    }\n",
              "\n",
              "    .dataframe thead th {\n",
              "        text-align: right;\n",
              "    }\n",
              "</style>\n",
              "<table border=\"1\" class=\"dataframe\">\n",
              "  <thead>\n",
              "    <tr style=\"text-align: right;\">\n",
              "      <th></th>\n",
              "      <th>S1</th>\n",
              "      <th>C1</th>\n",
              "      <th>S2</th>\n",
              "      <th>C2</th>\n",
              "      <th>S3</th>\n",
              "      <th>C3</th>\n",
              "      <th>S4</th>\n",
              "      <th>C4</th>\n",
              "      <th>S5</th>\n",
              "      <th>C5</th>\n",
              "      <th>Class</th>\n",
              "    </tr>\n",
              "  </thead>\n",
              "  <tbody>\n",
              "    <tr>\n",
              "      <th>0</th>\n",
              "      <td>0.75</td>\n",
              "      <td>0.461538</td>\n",
              "      <td>1.00</td>\n",
              "      <td>0.153846</td>\n",
              "      <td>1.00</td>\n",
              "      <td>0.538462</td>\n",
              "      <td>1.00</td>\n",
              "      <td>0.461538</td>\n",
              "      <td>0.50</td>\n",
              "      <td>0.461538</td>\n",
              "      <td>0.333333</td>\n",
              "    </tr>\n",
              "    <tr>\n",
              "      <th>1</th>\n",
              "      <td>0.50</td>\n",
              "      <td>0.461538</td>\n",
              "      <td>0.75</td>\n",
              "      <td>0.230769</td>\n",
              "      <td>1.00</td>\n",
              "      <td>0.153846</td>\n",
              "      <td>0.50</td>\n",
              "      <td>1.000000</td>\n",
              "      <td>0.25</td>\n",
              "      <td>0.538462</td>\n",
              "      <td>0.000000</td>\n",
              "    </tr>\n",
              "    <tr>\n",
              "      <th>2</th>\n",
              "      <td>0.75</td>\n",
              "      <td>0.692308</td>\n",
              "      <td>0.25</td>\n",
              "      <td>0.923077</td>\n",
              "      <td>1.00</td>\n",
              "      <td>1.000000</td>\n",
              "      <td>0.50</td>\n",
              "      <td>0.230769</td>\n",
              "      <td>0.50</td>\n",
              "      <td>0.076923</td>\n",
              "      <td>0.000000</td>\n",
              "    </tr>\n",
              "    <tr>\n",
              "      <th>3</th>\n",
              "      <td>0.75</td>\n",
              "      <td>0.307692</td>\n",
              "      <td>0.50</td>\n",
              "      <td>0.769231</td>\n",
              "      <td>0.75</td>\n",
              "      <td>0.230769</td>\n",
              "      <td>1.00</td>\n",
              "      <td>1.000000</td>\n",
              "      <td>1.00</td>\n",
              "      <td>0.307692</td>\n",
              "      <td>0.111111</td>\n",
              "    </tr>\n",
              "    <tr>\n",
              "      <th>4</th>\n",
              "      <td>0.75</td>\n",
              "      <td>0.769231</td>\n",
              "      <td>0.25</td>\n",
              "      <td>0.461538</td>\n",
              "      <td>1.00</td>\n",
              "      <td>0.615385</td>\n",
              "      <td>0.25</td>\n",
              "      <td>1.000000</td>\n",
              "      <td>0.25</td>\n",
              "      <td>0.384615</td>\n",
              "      <td>0.000000</td>\n",
              "    </tr>\n",
              "  </tbody>\n",
              "</table>\n",
              "</div>"
            ],
            "text/plain": [
              "     S1        C1    S2        C2  ...        C4    S5        C5     Class\n",
              "0  0.75  0.461538  1.00  0.153846  ...  0.461538  0.50  0.461538  0.333333\n",
              "1  0.50  0.461538  0.75  0.230769  ...  1.000000  0.25  0.538462  0.000000\n",
              "2  0.75  0.692308  0.25  0.923077  ...  0.230769  0.50  0.076923  0.000000\n",
              "3  0.75  0.307692  0.50  0.769231  ...  1.000000  1.00  0.307692  0.111111\n",
              "4  0.75  0.769231  0.25  0.461538  ...  1.000000  0.25  0.384615  0.000000\n",
              "\n",
              "[5 rows x 11 columns]"
            ]
          },
          "metadata": {
            "tags": []
          },
          "execution_count": 6
        }
      ]
    },
    {
      "cell_type": "markdown",
      "metadata": {
        "id": "PnNFJ3xKQZ0I"
      },
      "source": [
        "## Training the Neural network\n",
        "\n",
        "For the archtecture of this network I played around with many different combinations, increasing the number of nodes/width in the hidden layer (increasing the representaion dimension of the data) helped in lowering the error, also gradual increase in the number of layers/depth also helped with the error. So the final choice for the architecure of the network is as follows:\n",
        "\n",
        "10 Neurons Input layer, 20 Neurons in the first hidden layer, 40 in the next hidden layer, then back to 20 in the next hidden layer, then back to 10 in the last hidden layer and then to a single output neuron in the output layer for the regression value of the evaluated poker hand\n",
        "\n",
        "Trained for 30 epochs with a learning rate of 1e-12"
      ]
    },
    {
      "cell_type": "code",
      "metadata": {
        "id": "eVyDdvgttrvL",
        "colab": {
          "base_uri": "https://localhost:8080/"
        },
        "outputId": "4b5f2630-4eb9-4f40-ebdc-bc416ea17b41"
      },
      "source": [
        "np.random.seed(1) # Seeding for reproducibility\n",
        "myNN = NN([X_train.shape[1], 20, 40, 20, 10, 1])\n",
        "myNNerror = myNN.fit(X_train,y_train,epochs= 30, learningRate= 1e-12)\n",
        "# myNN"
      ],
      "execution_count": 7,
      "outputs": [
        {
          "output_type": "stream",
          "text": [
            "Epoch: 1 => .................... => Error: 623946047294.6753; Time taken: 6.454521894454956 seconds\n",
            "Epoch: 2 => .................... => Error: 728096.0439337145; Time taken: 6.343914747238159 seconds\n",
            "Epoch: 3 => .................... => Error: 586.9168189812918; Time taken: 6.3261895179748535 seconds\n",
            "Epoch: 4 => .................... => Error: 274.86671545354517; Time taken: 6.351655960083008 seconds\n",
            "Epoch: 5 => .................... => Error: 209.70325626608295; Time taken: 6.290038108825684 seconds\n",
            "Epoch: 6 => .................... => Error: 182.037814498096; Time taken: 6.346559286117554 seconds\n",
            "Epoch: 7 => .................... => Error: 166.9683051187988; Time taken: 6.301187753677368 seconds\n",
            "Epoch: 8 => .................... => Error: 157.63406612556537; Time taken: 6.3210883140563965 seconds\n",
            "Epoch: 9 => .................... => Error: 151.4733040784596; Time taken: 6.407973289489746 seconds\n",
            "Epoch: 10 => .................... => Error: 147.0652327076757; Time taken: 6.318653583526611 seconds\n",
            "Epoch: 11 => .................... => Error: 143.8222899702785; Time taken: 6.301166296005249 seconds\n",
            "Epoch: 12 => .................... => Error: 141.38632050575285; Time taken: 6.362734317779541 seconds\n",
            "Epoch: 13 => .................... => Error: 139.48166952192952; Time taken: 6.429271697998047 seconds\n",
            "Epoch: 14 => .................... => Error: 137.9642544783342; Time taken: 6.382469654083252 seconds\n",
            "Epoch: 15 => .................... => Error: 136.71595539189317; Time taken: 6.370368003845215 seconds\n",
            "Epoch: 16 => .................... => Error: 135.69114304752978; Time taken: 6.325506210327148 seconds\n",
            "Epoch: 17 => .................... => Error: 134.83144788859028; Time taken: 6.334066152572632 seconds\n",
            "Epoch: 18 => .................... => Error: 134.0933161649245; Time taken: 6.403596639633179 seconds\n",
            "Epoch: 19 => .................... => Error: 133.4573797318524; Time taken: 6.409283638000488 seconds\n",
            "Epoch: 20 => .................... => Error: 132.90360014938423; Time taken: 6.367584943771362 seconds\n",
            "Epoch: 21 => .................... => Error: 132.40196763246817; Time taken: 6.311478853225708 seconds\n",
            "Epoch: 22 => .................... => Error: 131.94863178956712; Time taken: 6.36769700050354 seconds\n",
            "Epoch: 23 => .................... => Error: 131.54522012749513; Time taken: 6.3680195808410645 seconds\n",
            "Epoch: 24 => .................... => Error: 131.1880755440264; Time taken: 6.334822177886963 seconds\n",
            "Epoch: 25 => .................... => Error: 130.8700477589331; Time taken: 6.400668621063232 seconds\n",
            "Epoch: 26 => .................... => Error: 130.58567375210433; Time taken: 6.305345296859741 seconds\n",
            "Epoch: 27 => .................... => Error: 130.333591348219; Time taken: 6.342291355133057 seconds\n",
            "Epoch: 28 => .................... => Error: 130.09920969104917; Time taken: 6.368982315063477 seconds\n",
            "Epoch: 29 => .................... => Error: 129.87409489034303; Time taken: 6.381012201309204 seconds\n",
            "Epoch: 30 => .................... => Error: 129.66523081571793; Time taken: 6.317070960998535 seconds\n"
          ],
          "name": "stdout"
        }
      ]
    },
    {
      "cell_type": "markdown",
      "metadata": {
        "id": "5w8BbQT1RJ61"
      },
      "source": [
        "## Testing the trained Neural Network"
      ]
    },
    {
      "cell_type": "markdown",
      "metadata": {
        "id": "oKB_jZcoi22W"
      },
      "source": [
        "The error on the testing dataset is higher than the error of the last epoch on the training data, this could mean that the network could have been overfitted"
      ]
    },
    {
      "cell_type": "code",
      "metadata": {
        "id": "BPKiwzU1C9_C",
        "colab": {
          "base_uri": "https://localhost:8080/"
        },
        "outputId": "7eccc178-c5eb-4dbb-90a0-b3089784f390"
      },
      "source": [
        "myNN.feedForward(X_test)\n",
        "test_output = myNN.output_layer.activated_output\n",
        "test_error = myNN.squaredError(test_output*classNorm,y_test*classNorm)\n",
        "print(f\"Error on the testing dataset: {test_error}\")"
      ],
      "execution_count": 8,
      "outputs": [
        {
          "output_type": "stream",
          "text": [
            "Error on the testing dataset: 2491.0978274797053\n"
          ],
          "name": "stdout"
        }
      ]
    },
    {
      "cell_type": "markdown",
      "metadata": {
        "id": "XL2ldafbjG_J"
      },
      "source": [
        "A sample predicted evaluation of a random poker hand, vs the actual evaluation of the hand provided"
      ]
    },
    {
      "cell_type": "code",
      "metadata": {
        "id": "ZGy6ZVDumHmS",
        "colab": {
          "base_uri": "https://localhost:8080/"
        },
        "outputId": "b617bc7d-4a8e-47c9-9788-f0115b07dde0"
      },
      "source": [
        "index = 1001 # checking for random index\n",
        "nInp = list(X_test[index])\n",
        "myNN.feedForward(X_test[index])\n",
        "print(f\"For Input {nInp}\\n => Poker Hand value prediction: {myNN.output_layer.activated_output[0,0]*classNorm}\\n => Actual Value of the hand: {y_test[index,0]*classNorm}\")"
      ],
      "execution_count": 9,
      "outputs": [
        {
          "output_type": "stream",
          "text": [
            "For Input [1.0, 0.38461538461538464, 1.0, 0.6923076923076923, 0.75, 1.0, 0.5, 0.5384615384615384, 1.0, 1.0]\n",
            " => Poker Hand value prediction: 0.0\n",
            " => Actual Value of the hand: 1.0\n"
          ],
          "name": "stdout"
        }
      ]
    },
    {
      "cell_type": "markdown",
      "metadata": {
        "id": "WUoOtYcJRQ8I"
      },
      "source": [
        "## Error analysis"
      ]
    },
    {
      "cell_type": "markdown",
      "metadata": {
        "id": "IIYnVXTaAR2Z"
      },
      "source": [
        "Poker Hands dataset loss function\n",
        "\n",
        "From the graph we can see there is a smooth convergence, that is loss is minimized with every epoch, the network kind of reaches the minimum around the 20th epoch and the error doesnt change much from there."
      ]
    },
    {
      "cell_type": "code",
      "metadata": {
        "id": "vQhcCKT6H87G",
        "colab": {
          "base_uri": "https://localhost:8080/",
          "height": 530
        },
        "outputId": "47830120-9893-4621-90b8-0517ccb08dcd"
      },
      "source": [
        "plt.figure(figsize=(20,8))\n",
        "plt.title(\"Poker Hands Dataset: Error Convergence\")\n",
        "ax = plt.plot(range(2,30), myNNerror[2:])\n",
        "plt.ylabel('Loss')\n",
        "plt.xlabel('Epochs')"
      ],
      "execution_count": 10,
      "outputs": [
        {
          "output_type": "execute_result",
          "data": {
            "text/plain": [
              "Text(0.5, 0, 'Epochs')"
            ]
          },
          "metadata": {
            "tags": []
          },
          "execution_count": 10
        },
        {
          "output_type": "display_data",
          "data": {
            "image/png": "[encoded data removed]",
            "text/plain": [
              "<Figure size 1440x576 with 1 Axes>"
            ]
          },
          "metadata": {
            "tags": [],
            "needs_background": "light"
          }
        }
      ]
    },
    {
      "cell_type": "markdown",
      "metadata": {
        "id": "T-1ziM4NRa8-"
      },
      "source": [
        "**Observations:** As the depth or width of the neural network was increased I had to lower the learning rate or else the network used to either just jump around a value trying to converge or get stuck on a random error.\n",
        "\n",
        "**Conclusion:** Neural Netowrks are pretty robust for many applications, while the functionality and the math behind the network is all linear but a combination of these linear nodes (ReLU activation) are able to adjust for the non-linearity required for many diffrent applications. The XOR function is an example where a NN is able to create a non-linear boundary where as any linear estimation will fail (a simple perceptron network will fail)\n",
        "\n",
        "**Future work:** Implementaion of Binary Cross entropy or Cross entropy for the error/loss functions for classification will be an improvement. \n"
      ]
    }
  ]
}