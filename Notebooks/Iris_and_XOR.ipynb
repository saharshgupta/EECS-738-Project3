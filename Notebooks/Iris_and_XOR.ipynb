{
  "nbformat": 4,
  "nbformat_minor": 0,
  "metadata": {
    "colab": {
      "name": "one_neuron_to_another_Iris_and_XOR.ipynb",
      "provenance": [],
      "collapsed_sections": [
        "lvxWPmRlQsVW",
        "0t1I2ecTQj34",
        "BLeCr2NoQVIh",
        "PnNFJ3xKQZ0I",
        "5w8BbQT1RJ61",
        "WUoOtYcJRQ8I"
      ]
    },
    "kernelspec": {
      "display_name": "Python 3",
      "name": "python3"
    },
    "language_info": {
      "name": "python"
    },
    "accelerator": "TPU"
  },
  "cells": [
    {
      "cell_type": "markdown",
      "metadata": {
        "id": "lvxWPmRlQsVW"
      },
      "source": [
        "## Importing Libraries\n",
        "\n",
        "Importing pandas for data handling, and numpy for math <br>\n",
        "Using Plot style fivethirtyeight"
      ]
    },
    {
      "cell_type": "code",
      "metadata": {
        "id": "h73neoXmsYQx"
      },
      "source": [
        "# Importing libraries required to handle the data and matrix calculations\n",
        "import pandas as pd\n",
        "import numpy as np\n",
        "\n",
        "# Importing libraries required for visualization\n",
        "import matplotlib.pyplot as plt\n",
        "\n",
        "# Importing libraries required for importing the data\n",
        "from google.colab import files\n",
        "import io\n",
        "\n",
        "# For time measurements\n",
        "import time\n",
        "\n",
        "# Using plot style from fivethirtyeight\n",
        "plt.style.use('fivethirtyeight')"
      ],
      "execution_count": 1,
      "outputs": []
    },
    {
      "cell_type": "markdown",
      "metadata": {
        "id": "0t1I2ecTQj34"
      },
      "source": [
        "## Neuron and Layers\n",
        "\n",
        "* **Neuron Class:** The neuron class is just a representation of a neuron with a bias and incoming weights\n",
        "\n",
        "* **Neuron Layer Class:** The layer class initializes a fully connected layer (Dense layer)based on the inputs and the number of neurons in this layer, uses the Neuron base class for neuron representation\n",
        "\n",
        "The weight initialization is from the standard normal distribution ~ N(0,1).\n",
        "\n",
        "The Bias is initialized with 0.\n",
        "\n",
        "The Neuron Layer has the following properties:\n",
        "* The Weights matrix shape is : [inputs x number of neurons in this layer]\n",
        "* The biases in a layer, we have one bias per neuron and so the shape is: \n",
        "[1 x number of neurons in this layer]\n",
        "* The fire function: Takes in the inputs and fires the layer, i.e. calculates the weighted sum of incoming weights and the input, adds the bias to get the output for the layer. WIth the output, calculates the ReLU activation, and the gradient of the activation\n",
        "* ReLU (Rectified Linear Unit) activation function: f(x) = {0 if x<= 0; and x if x > 0} clips the value if its 0 or below, and is linear for any x > 0\n",
        "* ReLU gradient: Assuming the derivative for ReLU at 0 approaches 0\n",
        "* Other helper functions for updating the weights and biases\n"
      ]
    },
    {
      "cell_type": "code",
      "metadata": {
        "id": "AgTW38IHuYpl"
      },
      "source": [
        "class Neuron:\n",
        "  def __init__(self, w = None, b = None):\n",
        "    self.weights = w\n",
        "    self.bias = b\n",
        "\n",
        "  def update(self, w, b):\n",
        "    self.weights = w\n",
        "    self.bias = b\n",
        "\n",
        "  def __repr__(self):\n",
        "    return f\"{{My Bias = {self.bias} | Incoming Weights: {self.weights}}}\"\n",
        "\n",
        "class NeuronLayer:\n",
        "  # Every layer has an input vector (x: previous layer output shape (nodes)) and an output vector (y: This layer output shape (nodes/workers))\n",
        "  def __init__(self,n_inputs,n_neurons, weights = [], biases = []):\n",
        "    self.input_nodes = n_inputs # Nodes in the previous layer (as they are input to this layer)\n",
        "    self.output_nodes = n_neurons # Nodes in the layer\n",
        "    \n",
        "    if len(weights) == 0: # If no weights were provided\n",
        "      self.weights = np.random.rand(self.input_nodes,self.output_nodes)\n",
        "    else:\n",
        "      self.weights = weights\n",
        "\n",
        "    if len(biases) == 0: # If no biases were provided\n",
        "      # self.biases = np.random.randn(1,self.output_nodes)\n",
        "      self.biases = np.zeros((1,self.output_nodes))\n",
        "    else:\n",
        "      self.biases = biases\n",
        "\n",
        "    # Creating the specific layer with the weights and biases for the Neurons\n",
        "    self.layer = [Neuron(w,b) for b,w in zip(self.biases[0], self.weights.T)]\n",
        "\n",
        "  def fire(self,training_input,activationFunction, gradientFunction):\n",
        "    self.output = np.dot(training_input, self.weights) + self.biases\n",
        "    self.activated_output = np.array([[activationFunction(c) for c in r] for r in self.output])\n",
        "    self.activation_gradient = np.array([[gradientFunction(c) for c in r] for r in self.output])\n",
        "\n",
        "  # Using Rectified Linear Unit activation function, if the value is negative return 0 otherwise unchanged value\n",
        "  # f(x) = {0 if x<= 0; and x if x > 0}\n",
        "  # Implementation is just a max{0,value}\n",
        "  def relu(self,x):\n",
        "    return np.maximum(0,x)\n",
        "\n",
        "  # The derivative for f(x) = {0 if x <= 0; and x if x > 0}\n",
        "  # f'(x) = { 0 if x <= 0; and 1 if x > 0} assuming the derivative for relu at 0 is 0 (as its approaching 0)\n",
        "  def reluGradient(self,x):\n",
        "    if x <= 0:\n",
        "      return 0\n",
        "    return 1\n",
        "\n",
        "  # Some other activation functions and there derivatives\n",
        "  # For classification, at the output layer a softmax is better than relu as it gives us a probability distribution\n",
        "  # e^x is used to scale the values, and make them all positive\n",
        "  # Then we normalize to get a probability distribution\n",
        "  def softmax(self,x):\n",
        "    exp_values = np.exp(x - np.max(x, axis = 1, keepdims = True))\n",
        "    norm_values = exp_values / np.sum(exp_values, axis = 1, keepdims = True)\n",
        "    return norm_values;\n",
        "\n",
        "  # Helper functions to adjust/update the weights and biases\n",
        "  def getWeights(self):\n",
        "    return self.weights\n",
        "  def getBiases(self):\n",
        "    return self.biases\n",
        "  def setWeights(self,new_weights):\n",
        "    self.weights = new_weights\n",
        "  def setBiases(self,new_biases):\n",
        "    self.biases = new_biases\n",
        "\n",
        "  def updateLayer(self):\n",
        "    for i,b,w in zip(range(self.output_nodes), self.biases[0], self.weights.T):\n",
        "      self.layer[i].update(w,b) \n",
        "\n",
        "  def __repr__(self):\n",
        "    return f\"\\n{self.layer}\""
      ],
      "execution_count": 2,
      "outputs": []
    },
    {
      "cell_type": "markdown",
      "metadata": {
        "id": "YEO7IftDQgPG"
      },
      "source": [
        "## Neural Network\n",
        "\n",
        "The Neural Network class uses the Neuron layer class defined above to create a network of layers.\n",
        "\n",
        "The input layer is created for representation purposes as it does nothing in the calculations as it has no incoming weights or biases.\n",
        "\n",
        "The initialization of the Neural Network requires a list of neurons per layer, with the list provided the input, hidden and output layers are created.\n",
        "\n",
        "The training of a neural network has 2 steps:\n",
        "* Feed forward: In this step we just feed the data forward, starting from the provided input, the first hidden layer is given that input, the layer is fired where the activations are calculated, these output activation of this layer is used as the input for the next layer, and hence feed forward.\n",
        "\n",
        "* Backpropagation: This is the main step where the error is calculated from the given labels and predicted output. With this error we calculate the gradient descent for the error (loss) function. \n",
        "\n",
        "The gradient descent for the output layer = \n",
        "error_derivative * activation_derivative\n",
        "\n",
        "For weights: the Input to this layer is multiplied to get the weighted error based on the inputs, that is which input mattered more in this calculations and so which weights need to change more than others. It is then multiplied with learning rate to control the changes.\n",
        "\n",
        "For biases: The gradient descent is summed up along the axis and then we have the biases per node based on the error and the learning rate.\n",
        "\n",
        "Loss Functions:\n",
        "Used basic squared error as it gives positive results, also tried mean squarred error and root mean squarred error.\n",
        "The functions and their derivaties are used to calculate the gradient descent\n",
        "\n",
        "The Fit Function: Takes input the whole training data, number of epochs, learning rate, error threshold and mini batch size.\n",
        "\n",
        "Given these parameters, the fit function runs a loop for all the epochs.\n",
        "\n",
        "    For every epoch:\n",
        "      The training data is shuffled,\n",
        "      The data is split into mini batches of the provided size,\n",
        "      for every mini batch:\n",
        "        We feed forward the mini batch and the error is calculated\n",
        "        The error is backpropagated\n",
        "    The netowrk weights and biases are updated once the training is complete.\n",
        "    The fit method returns an array with errors for every epoch."
      ]
    },
    {
      "cell_type": "code",
      "metadata": {
        "id": "WHVvxs11s5gp"
      },
      "source": [
        "class NN:\n",
        "  # layer_sizes format is a list of number of neurons per layer for example => [2,3,1] 2 input neurons, 3 hidden neurons and 1 output neuron\n",
        "  def __init__(self,layer_sizes):\n",
        "    # Network parameters initialization\n",
        "    self.network_size = len(layer_sizes)\n",
        "    self.input_nodes = layer_sizes[0]\n",
        "    self.output_nodes = layer_sizes[self.network_size-1]\n",
        "    self.hidden_layers = [None for _ in range(self.network_size-2)]\n",
        "    self.layers = []\n",
        "\n",
        "    # Initializing Network architecture/layers\n",
        "    # For the provided structure we create the nodes/workers\n",
        "    # The input layer is easy as it only has nodes for every input with no incomming weights and biases of its own\n",
        "    # Creating this layer for representation purposes, doesnt have any work in the neural networks calculations\n",
        "    self.input_layer = [Neuron() for _ in range(self.input_nodes)]\n",
        "    \n",
        "    # Creating Hidden layers\n",
        "    for i in range(self.network_size -2): # Starting from 0 as input to first hidden layer is from the input layer\n",
        "      self.hidden_layers[i] = NeuronLayer(layer_sizes[i],layer_sizes[i+1])\n",
        "      self.layers.append(self.hidden_layers[i])\n",
        "\n",
        "    # Creating Output Layer\n",
        "    self.output_layer = NeuronLayer(layer_sizes[self.network_size-2],self.output_nodes)\n",
        "    self.layers.append(self.output_layer)\n",
        "\n",
        "  def epochRange(self, start, epochs):\n",
        "    epoch = start\n",
        "    while epoch < epochs:\n",
        "      yield (epoch)\n",
        "      epoch += 1\n",
        "\n",
        "  def squaredError(self, predicted, true):\n",
        "    error = 0.5*(true - predicted)**2\n",
        "    return np.sum(error)\n",
        "\n",
        "  def squaredGradient(self, predicted, true):\n",
        "    return (true - predicted)\n",
        "    \n",
        "  # A mean squared cost function, takes the mean of the error term that is the squared diffrence between the predicted and expected value\n",
        "  # mse = sum((x_true - x_predicted)^2)/2N = mean(0.5*(x_true - x_predicted)^2)\n",
        "  def meanSquaredError(self,predicted,true):\n",
        "    # Calculating the error\n",
        "    error = true - predicted # [[predicted_i1, predicted_i2, ..., predicted_in]...] -[[true_i1, true_i2, ..., true_in]...] shape: rows=> number of samples in batch (b); col=> input features (n); => [b x n] matrix\n",
        "    error = 0.5 * np.power(error, 2) # Squarred error [[error_sample1]**2,[error_sample2]**2, ..., [error_samplen]**2] => [b x n] matrix\n",
        "    return np.mean(error) # Mean of the squared error within a batch, does nothing if batch size is 1 that is 1 sample at a time\n",
        "\n",
        "  # The derivative of mse = sum((x_true - x_predicted)^2)/2N\n",
        "  # mse' = (x_true - x_predicted)/N\n",
        "  # Similar implementation as the mean squared error\n",
        "  def mseGradient(self,predicted,true):\n",
        "    error = true - predicted # [[predicted_i1, predicted_i2, ..., predicted_in]...] -[[true_i1, true_i2, ..., true_in]...] shape: number of samples in batch (b) x input features (n); => [b x n] matrix\n",
        "    return error/true.size # Mean of the error within a batch, does nothing if batch size is 1 that is 1 sample at a time\n",
        "\n",
        "  # Another cost function, takes the root of the mean squarred error\n",
        "  def rootMeanSquaredError(self,predicted,true):\n",
        "    # Calculating the error\n",
        "    error = true - predicted # [[predicted_i1, predicted_i2, ..., predicted_in]...] -[[true_i1, true_i2, ..., true_in]...] shape: rows=> number of samples in batch (b); col=> input features (n); => [b x n] matrix\n",
        "    error = np.power(error, 2) # Squarred error [[error_sample1]**2,[error_sample2]**2, ..., [error_samplen]**2] => [b x n] matrix\n",
        "    return np.sqrt(np.mean(error)) # the square root of the mean squared error\n",
        "\n",
        "  # The derivative for the rmse function\n",
        "  def rmseGradient(self,predicted,true):\n",
        "    return self.mseGradient(predicted,true)/(2*self.rootMeanSquarredError(predicted,true)) # d(rmse)/d(prev_activation) = (1/2*rmse)*mseGradient()\n",
        "    \n",
        "  def gradientDescent(self,error_gradient, activation_gradient):\n",
        "    return error_gradient*activation_gradient\n",
        "\n",
        "  def feedForward(self, training_batch):\n",
        "    inp = training_batch # Input Layer\n",
        "\n",
        "    for i in self.epochRange(0,self.network_size-2): # For every hidden layer (Total network layers - input layer - output layer)\n",
        "      self.hidden_layers[i].fire(inp, self.hidden_layers[i].relu, self.hidden_layers[i].reluGradient)\n",
        "      inp = self.hidden_layers[i].activated_output # Feeding the output forward as input\n",
        "    \n",
        "    # output layer (input is the output from the last layer (input/hidden layer))\n",
        "    self.output_layer.fire(inp, self.output_layer.relu, self.output_layer.reluGradient)\n",
        "    # print(f\"Final output: {self.output_layer.activated_output}\")\n",
        "\n",
        "  # Going in reverse from the output layer to the first hidden layer in the network\n",
        "  def backPropagation(self, training_batch, labels, lr, threshold, prev_error):\n",
        "    # Calculating the error and the error gradient (the direction of the gradient ascent)\n",
        "    error = self.squaredError(self.output_layer.activated_output,labels)\n",
        "    error_gradient = self.squaredGradient(self.output_layer.activated_output,labels)\n",
        "    # error = self.meanSquaredError(self.output_layer.activated_output,labels)\n",
        "    # error_gradient = self.mseGradient(self.output_layer.activated_output,labels)\n",
        "\n",
        "    # Calculating the asjustments for the output layer based on the error and the output layer activation gradient\n",
        "    adjustments = self.gradientDescent(error_gradient, self.output_layer.activation_gradient)\n",
        "    \n",
        "    if self.network_size > 2: # If there is a hidden layer\n",
        "      last_input = self.hidden_layers[-1].activated_output # The activated output of the last hidden layer\n",
        "    else:\n",
        "      last_input = training_batch # No hidden layer, the output layer is the only layer in the network\n",
        "\n",
        "    # Calculating output layer adjustments based on the loss\n",
        "    adjustments_wo = np.dot(last_input.T, adjustments) * lr\n",
        "    output_bias = np.sum(adjustments,axis=0,keepdims=True) * lr\n",
        "\n",
        "    adjustments_wh = []\n",
        "    hidden_bias = []\n",
        "    runCount = 0\n",
        "\n",
        "    # For hidden layers, the adjustments from the previous layer is used and multiplied with the weights to get the gradient of cost with respect to the previous activation\n",
        "    for i in range(self.network_size-3, -1, -1): # For every hidden layer (Total network layers - input layer - output layer)\n",
        "      if runCount != 0:\n",
        "        # Following hidden layers towards input layers\n",
        "        adjustments = np.dot(adjustments, self.hidden_layers[i+1].weights.T)\n",
        "        adjustments = adjustments * self.hidden_layers[i].activation_gradient\n",
        "      else:\n",
        "        # Last Hidden layer adjustments\n",
        "        adjustments = np.dot(adjustments, self.output_layer.weights.T)\n",
        "        adjustments = adjustments * self.hidden_layers[i].activation_gradient\n",
        "        \n",
        "      if i > 0: # If there are hidden layers\n",
        "        last_input = self.hidden_layers[i-1].activated_output # The activated output of the last hidden layer\n",
        "      else: # First hidden layer takes the provided input\n",
        "        last_input = training_batch # No hidden layer, the output layer is the only layer in the network\n",
        "\n",
        "      runCount += 1\n",
        "      adjustments_wh.append(np.dot(last_input.T, adjustments) * lr)\n",
        "      hidden_bias.append(np.sum(adjustments,axis=0,keepdims=True) * lr)\n",
        "      \n",
        "\n",
        "    # Updating the weights and biases from the calculated adjustments\n",
        "    self.output_layer.setWeights(self.output_layer.getWeights() + adjustments_wo)\n",
        "    self.output_layer.setBiases(self.output_layer.getBiases() + output_bias)\n",
        "\n",
        "    for i,wh,bh in zip(range(self.network_size-3, -1, -1),adjustments_wh,hidden_bias):\n",
        "      self.hidden_layers[i].setWeights(self.hidden_layers[i].getWeights() + wh)\n",
        "      self.hidden_layers[i].setBiases(self.hidden_layers[i].getBiases() + bh)\n",
        "\n",
        "    return error\n",
        "\n",
        "  def fit(self,X_train,labels,epochs, mini_batch_size = 32,learningRate = 1e-1, threshold = 1e-5):\n",
        "    lr = learningRate # Learning rate\n",
        "    error = np.zeros((epochs+1,1))\n",
        "    error[0] = np.inf # Starting with a very high error,a nd minimizing this using gradient descent\n",
        "    training_data = np.hstack((X_train,labels))\n",
        "    n = len(training_data)\n",
        "    for epoch in self.epochRange(1,epochs+1): # For every epoch\n",
        "      print(f\"Epoch: {epoch} => \", end = \"\")\n",
        "      start = time.time()\n",
        "\n",
        "      # Shuffling the data\n",
        "      np.random.shuffle(training_data)\n",
        "      mini_batches = [training_data[k:k+mini_batch_size] for k in range(0, n, mini_batch_size)]\n",
        "      m_count = 0\n",
        "\n",
        "      for mini_batch in mini_batches: # For every mini batch\n",
        "        if m_count % mini_batch_size == 0:\n",
        "          print(\".\", end=\"\")\n",
        "        training_batch = mini_batch[:,:-self.output_layer.output_nodes] # Shuffled X_train\n",
        "        training_labels = np.array([mini_batch[:,-self.output_layer.output_nodes]]).T # Shuffled Y_train\n",
        "\n",
        "        # Run the feed forward\n",
        "        self.feedForward(training_batch)\n",
        "\n",
        "        #Calculating error and backpropogating the updates\n",
        "        error[epoch] += self.backPropagation(training_batch, training_labels, learningRate, threshold, error[epoch-1])\n",
        "        m_count += 1\n",
        "      end = time.time()\n",
        "      print(f\" => Error: {error[epoch,0]}\", end=\"\")\n",
        "      print(f\"; Time taken: {end - start}\")\n",
        "\n",
        "    self.updateNetwork()\n",
        "    return error[1:epoch+1]\n",
        "\n",
        "  # Updates the network, sets the final values of the neuron after all backpropogation through every epoch. Only required for final representation of the network, as it updates all the neurons in every layer\n",
        "  def updateNetwork(self):\n",
        "    self.output_layer.updateLayer() # Updating the output layer neurons\n",
        "    for i in self.epochRange(0,self.network_size-2): # For every hidden layer (Total network layers - input layer - output layer)\n",
        "      self.hidden_layers[i].updateLayer() # Updating the hidden layer neurons\n",
        "\n",
        "  def classify(self, x):\n",
        "    if x >= 0.5:\n",
        "      return 1\n",
        "    return 0\n",
        "  def classify2(self, x):\n",
        "    if x >= 0.5:\n",
        "      return 1\n",
        "    return 0.5\n",
        "\n",
        "  def __repr__(self):\n",
        "    if self.network_size > 2:\n",
        "      return f\"Neural Network Architecture \\n\\nInput Layer=> \\n{self.input_layer} \\n\\nHidden Layers=> {self.hidden_layers} \\n\\nOutput Layer=> {self.output_layer} \\n\"\n",
        "    return f\"Neural Network Architecture \\n\\nInput Layer=> \\n{self.input_layer} \\n\\nOutput Layer=> {self.output_layer} \\n\""
      ],
      "execution_count": 3,
      "outputs": []
    },
    {
      "cell_type": "markdown",
      "metadata": {
        "id": "BLeCr2NoQVIh"
      },
      "source": [
        "##Loading and Pre-Processing the dataset\n",
        "\n",
        "Cleaning the dataset, Dropping rows with NA values and resetting index\n",
        "\n",
        "Encoding species to numerical values for the neural network to predict\n",
        "\n",
        "Scaling the values for better training, and splitting the data into train and test datasets."
      ]
    },
    {
      "cell_type": "code",
      "metadata": {
        "colab": {
          "resources": {
            "http://localhost:8080/nbextensions/google.colab/files.js": {
              "data": "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",
              "ok": true,
              "headers": [
                [
                  "content-type",
                  "application/javascript"
                ]
              ],
              "status": 200,
              "status_text": ""
            }
          },
          "base_uri": "https://localhost:8080/",
          "height": 73
        },
        "id": "R6oFzgNG8YFR",
        "outputId": "ab9f15b2-ef7b-487e-c2cd-0c5d514cfbfc"
      },
      "source": [
        "uploaded = files.upload()"
      ],
      "execution_count": 4,
      "outputs": [
        {
          "output_type": "display_data",
          "data": {
            "text/html": [
              "\n",
              "     <input type=\"file\" id=\"files-9c961744-79cf-4d85-9f86-41433109faa9\" name=\"files[]\" multiple disabled\n",
              "        style=\"border:none\" />\n",
              "     <output id=\"result-9c961744-79cf-4d85-9f86-41433109faa9\">\n",
              "      Upload widget is only available when the cell has been executed in the\n",
              "      current browser session. Please rerun this cell to enable.\n",
              "      </output>\n",
              "      <script src=\"/nbextensions/google.colab/files.js\"></script> "
            ],
            "text/plain": [
              "<IPython.core.display.HTML object>"
            ]
          },
          "metadata": {
            "tags": []
          }
        },
        {
          "output_type": "stream",
          "text": [
            "Saving Iris.csv to Iris (1).csv\n"
          ],
          "name": "stdout"
        }
      ]
    },
    {
      "cell_type": "code",
      "metadata": {
        "colab": {
          "base_uri": "https://localhost:8080/"
        },
        "id": "BxewzCcm_qls",
        "outputId": "c5d95ed2-211c-4a5d-fa57-dd217206146e"
      },
      "source": [
        "path = io.BytesIO(uploaded['Iris.csv'])\n",
        "df = pd.read_csv(path)\n",
        "df = df.dropna()\n",
        "df = df.sample(frac=1).reset_index(drop=True)\n",
        "df = df.drop([\"Id\"],axis = 1)\n",
        "df['Species'].unique()"
      ],
      "execution_count": 5,
      "outputs": [
        {
          "output_type": "execute_result",
          "data": {
            "text/plain": [
              "array(['Iris-setosa', 'Iris-versicolor', 'Iris-virginica'], dtype=object)"
            ]
          },
          "metadata": {
            "tags": []
          },
          "execution_count": 5
        }
      ]
    },
    {
      "cell_type": "code",
      "metadata": {
        "colab": {
          "base_uri": "https://localhost:8080/",
          "height": 204
        },
        "id": "yEJrMODP_1nq",
        "outputId": "3edd0a58-cbc4-4a1b-b60b-8c3da209d1fc"
      },
      "source": [
        "#Mapping string species to numeric format\n",
        "species_map = {'Iris-setosa':1, 'Iris-versicolor':2, 'Iris-virginica':3}\n",
        "df['encoded_Species'] = df['Species'].map(species_map)\n",
        "df.head()"
      ],
      "execution_count": 6,
      "outputs": [
        {
          "output_type": "execute_result",
          "data": {
            "text/html": [
              "<div>\n",
              "<style scoped>\n",
              "    .dataframe tbody tr th:only-of-type {\n",
              "        vertical-align: middle;\n",
              "    }\n",
              "\n",
              "    .dataframe tbody tr th {\n",
              "        vertical-align: top;\n",
              "    }\n",
              "\n",
              "    .dataframe thead th {\n",
              "        text-align: right;\n",
              "    }\n",
              "</style>\n",
              "<table border=\"1\" class=\"dataframe\">\n",
              "  <thead>\n",
              "    <tr style=\"text-align: right;\">\n",
              "      <th></th>\n",
              "      <th>SepalLengthCm</th>\n",
              "      <th>SepalWidthCm</th>\n",
              "      <th>PetalLengthCm</th>\n",
              "      <th>PetalWidthCm</th>\n",
              "      <th>Species</th>\n",
              "      <th>encoded_Species</th>\n",
              "    </tr>\n",
              "  </thead>\n",
              "  <tbody>\n",
              "    <tr>\n",
              "      <th>0</th>\n",
              "      <td>4.6</td>\n",
              "      <td>3.2</td>\n",
              "      <td>1.4</td>\n",
              "      <td>0.2</td>\n",
              "      <td>Iris-setosa</td>\n",
              "      <td>1</td>\n",
              "    </tr>\n",
              "    <tr>\n",
              "      <th>1</th>\n",
              "      <td>5.9</td>\n",
              "      <td>3.0</td>\n",
              "      <td>4.2</td>\n",
              "      <td>1.5</td>\n",
              "      <td>Iris-versicolor</td>\n",
              "      <td>2</td>\n",
              "    </tr>\n",
              "    <tr>\n",
              "      <th>2</th>\n",
              "      <td>5.7</td>\n",
              "      <td>2.6</td>\n",
              "      <td>3.5</td>\n",
              "      <td>1.0</td>\n",
              "      <td>Iris-versicolor</td>\n",
              "      <td>2</td>\n",
              "    </tr>\n",
              "    <tr>\n",
              "      <th>3</th>\n",
              "      <td>4.4</td>\n",
              "      <td>3.0</td>\n",
              "      <td>1.3</td>\n",
              "      <td>0.2</td>\n",
              "      <td>Iris-setosa</td>\n",
              "      <td>1</td>\n",
              "    </tr>\n",
              "    <tr>\n",
              "      <th>4</th>\n",
              "      <td>6.7</td>\n",
              "      <td>2.5</td>\n",
              "      <td>5.8</td>\n",
              "      <td>1.8</td>\n",
              "      <td>Iris-virginica</td>\n",
              "      <td>3</td>\n",
              "    </tr>\n",
              "  </tbody>\n",
              "</table>\n",
              "</div>"
            ],
            "text/plain": [
              "   SepalLengthCm  SepalWidthCm  ...          Species  encoded_Species\n",
              "0            4.6           3.2  ...      Iris-setosa                1\n",
              "1            5.9           3.0  ...  Iris-versicolor                2\n",
              "2            5.7           2.6  ...  Iris-versicolor                2\n",
              "3            4.4           3.0  ...      Iris-setosa                1\n",
              "4            6.7           2.5  ...   Iris-virginica                3\n",
              "\n",
              "[5 rows x 6 columns]"
            ]
          },
          "metadata": {
            "tags": []
          },
          "execution_count": 6
        }
      ]
    },
    {
      "cell_type": "code",
      "metadata": {
        "colab": {
          "base_uri": "https://localhost:8080/",
          "height": 204
        },
        "id": "uLhfUzHBBjWi",
        "outputId": "5ed06cf8-41d4-4056-e24b-b92c2bbf6dc1"
      },
      "source": [
        "# Iris dataset\n",
        "target = 'encoded_Species'\n",
        "predictors = list(df.columns)\n",
        "predictors.remove(\"Species\")\n",
        "predictors.remove(target)\n",
        "\n",
        "ndf = df.copy()\n",
        "ndf.drop(ndf[ndf['encoded_Species'] == 3].index, inplace = True)\n",
        "ndf.drop([\"Species\"], axis=1, inplace=True)\n",
        "\n",
        "for c in predictors: # Scaled the features by dividing them from the maximum value of the column (MinMaxScaler, scaled values between [0,1])\n",
        "  cNorm = ndf[c].max()\n",
        "  ndf[c] = ndf[c]/cNorm\n",
        "\n",
        "targetNorm = 2\n",
        "ndf[target] = ndf[target]/targetNorm\n",
        "\n",
        "X = ndf[predictors].values # Features to train on\n",
        "y = np.array([ndf[target].values]).T # Target values for backpropagation\n",
        "\n",
        "# Splitting into train and test\n",
        "X_train = X[:80]\n",
        "y_train = y[:80]\n",
        "X_test = X[80:]\n",
        "y_test = y[80:]\n",
        "\n",
        "# XOR training data (Sample classification data)\n",
        "X_train_xor = np.array([[0,0],\n",
        "                    [0,1],\n",
        "                    [1,0],\n",
        "                    [1,1]])\n",
        "y_train_xor = np.array([[0, 1, 1, 0]]).T\n",
        "\n",
        "ndf.head()"
      ],
      "execution_count": 7,
      "outputs": [
        {
          "output_type": "execute_result",
          "data": {
            "text/html": [
              "<div>\n",
              "<style scoped>\n",
              "    .dataframe tbody tr th:only-of-type {\n",
              "        vertical-align: middle;\n",
              "    }\n",
              "\n",
              "    .dataframe tbody tr th {\n",
              "        vertical-align: top;\n",
              "    }\n",
              "\n",
              "    .dataframe thead th {\n",
              "        text-align: right;\n",
              "    }\n",
              "</style>\n",
              "<table border=\"1\" class=\"dataframe\">\n",
              "  <thead>\n",
              "    <tr style=\"text-align: right;\">\n",
              "      <th></th>\n",
              "      <th>SepalLengthCm</th>\n",
              "      <th>SepalWidthCm</th>\n",
              "      <th>PetalLengthCm</th>\n",
              "      <th>PetalWidthCm</th>\n",
              "      <th>encoded_Species</th>\n",
              "    </tr>\n",
              "  </thead>\n",
              "  <tbody>\n",
              "    <tr>\n",
              "      <th>0</th>\n",
              "      <td>0.657143</td>\n",
              "      <td>0.727273</td>\n",
              "      <td>0.274510</td>\n",
              "      <td>0.111111</td>\n",
              "      <td>0.5</td>\n",
              "    </tr>\n",
              "    <tr>\n",
              "      <th>1</th>\n",
              "      <td>0.842857</td>\n",
              "      <td>0.681818</td>\n",
              "      <td>0.823529</td>\n",
              "      <td>0.833333</td>\n",
              "      <td>1.0</td>\n",
              "    </tr>\n",
              "    <tr>\n",
              "      <th>2</th>\n",
              "      <td>0.814286</td>\n",
              "      <td>0.590909</td>\n",
              "      <td>0.686275</td>\n",
              "      <td>0.555556</td>\n",
              "      <td>1.0</td>\n",
              "    </tr>\n",
              "    <tr>\n",
              "      <th>3</th>\n",
              "      <td>0.628571</td>\n",
              "      <td>0.681818</td>\n",
              "      <td>0.254902</td>\n",
              "      <td>0.111111</td>\n",
              "      <td>0.5</td>\n",
              "    </tr>\n",
              "    <tr>\n",
              "      <th>5</th>\n",
              "      <td>0.771429</td>\n",
              "      <td>0.840909</td>\n",
              "      <td>0.294118</td>\n",
              "      <td>0.111111</td>\n",
              "      <td>0.5</td>\n",
              "    </tr>\n",
              "  </tbody>\n",
              "</table>\n",
              "</div>"
            ],
            "text/plain": [
              "   SepalLengthCm  SepalWidthCm  PetalLengthCm  PetalWidthCm  encoded_Species\n",
              "0       0.657143      0.727273       0.274510      0.111111              0.5\n",
              "1       0.842857      0.681818       0.823529      0.833333              1.0\n",
              "2       0.814286      0.590909       0.686275      0.555556              1.0\n",
              "3       0.628571      0.681818       0.254902      0.111111              0.5\n",
              "5       0.771429      0.840909       0.294118      0.111111              0.5"
            ]
          },
          "metadata": {
            "tags": []
          },
          "execution_count": 7
        }
      ]
    },
    {
      "cell_type": "markdown",
      "metadata": {
        "id": "PnNFJ3xKQZ0I"
      },
      "source": [
        "## Training the Neural network\n",
        "\n",
        "***Creating and fitting neural network***\n",
        "\n",
        "**Architecture for XOR:** 2 Neurons in the input layer, 4 neurons in the hidden layer and 1 neuron in the output layer. This architecture using ReLU was able to converge and find a non-linear function for the XOR function.\n",
        "\n",
        "**Architecture for Iris Dataset:** 4 Neurons in the input layer, 4 neurons in the first hidden layer, 4 neurons in the second hidden layer and 1 neuron in the output layer. This architecture using ReLU was able to converge and minimize the error."
      ]
    },
    {
      "cell_type": "markdown",
      "metadata": {
        "id": "3ksRztKId2G2"
      },
      "source": [
        "**Iris Dataset**"
      ]
    },
    {
      "cell_type": "code",
      "metadata": {
        "colab": {
          "base_uri": "https://localhost:8080/"
        },
        "id": "eVyDdvgttrvL",
        "outputId": "4a1504d1-c839-4596-bffa-e1c2dc3802ec"
      },
      "source": [
        "np.random.seed(1) # Seeding for reproducibility\n",
        "myNN = NN([X_train.shape[1], 4, 4, 1])\n",
        "myNN"
      ],
      "execution_count": 8,
      "outputs": [
        {
          "output_type": "execute_result",
          "data": {
            "text/plain": [
              "Neural Network Architecture \n",
              "\n",
              "Input Layer=> \n",
              "[{My Bias = None | Incoming Weights: None}, {My Bias = None | Incoming Weights: None}, {My Bias = None | Incoming Weights: None}, {My Bias = None | Incoming Weights: None}] \n",
              "\n",
              "Hidden Layers=> [\n",
              "[{My Bias = 0.0 | Incoming Weights: [0.417022   0.14675589 0.39676747 0.20445225]}, {My Bias = 0.0 | Incoming Weights: [0.72032449 0.09233859 0.53881673 0.87811744]}, {My Bias = 0.0 | Incoming Weights: [1.14374817e-04 1.86260211e-01 4.19194514e-01 2.73875932e-02]}, {My Bias = 0.0 | Incoming Weights: [0.30233257 0.34556073 0.6852195  0.67046751]}], \n",
              "[{My Bias = 0.0 | Incoming Weights: [0.4173048  0.80074457 0.87638915 0.16983042]}, {My Bias = 0.0 | Incoming Weights: [0.55868983 0.96826158 0.89460666 0.8781425 ]}, {My Bias = 0.0 | Incoming Weights: [0.14038694 0.31342418 0.08504421 0.09834683]}, {My Bias = 0.0 | Incoming Weights: [0.19810149 0.69232262 0.03905478 0.42110763]}]] \n",
              "\n",
              "Output Layer=> \n",
              "[{My Bias = 0.0 | Incoming Weights: [0.95788953 0.53316528 0.69187711 0.31551563]}] "
            ]
          },
          "metadata": {
            "tags": []
          },
          "execution_count": 8
        }
      ]
    },
    {
      "cell_type": "code",
      "metadata": {
        "colab": {
          "base_uri": "https://localhost:8080/"
        },
        "id": "ZTCEiEfzMZpX",
        "outputId": "e9fbcd34-8c01-4fdd-d474-da4db5840fee"
      },
      "source": [
        "myNNerror = myNN.fit(X_train,y_train,epochs= 50, learningRate= 1e-4, mini_batch_size=8)\n",
        "print(\"\\nFinal Weights and Biases after training\\n\")\n",
        "myNN"
      ],
      "execution_count": 9,
      "outputs": [
        {
          "output_type": "stream",
          "text": [
            "Epoch: 1 => .. => Error: 445.8858434994596; Time taken: 0.011890411376953125\n",
            "Epoch: 2 => .. => Error: 252.5084223589054; Time taken: 0.009389400482177734\n",
            "Epoch: 3 => .. => Error: 158.1908515377811; Time taken: 0.010048866271972656\n",
            "Epoch: 4 => .. => Error: 105.82285318086656; Time taken: 0.01579451560974121\n",
            "Epoch: 5 => .. => Error: 73.94213326350382; Time taken: 0.011810541152954102\n",
            "Epoch: 6 => .. => Error: 53.48334770100115; Time taken: 0.013963460922241211\n",
            "Epoch: 7 => .. => Error: 39.71531604256711; Time taken: 0.008313655853271484\n",
            "Epoch: 8 => .. => Error: 30.285005519185866; Time taken: 0.0076558589935302734\n",
            "Epoch: 9 => .. => Error: 23.560980926820577; Time taken: 0.008432388305664062\n",
            "Epoch: 10 => .. => Error: 18.664142079867215; Time taken: 0.009134054183959961\n",
            "Epoch: 11 => .. => Error: 14.998738336583466; Time taken: 0.00977325439453125\n",
            "Epoch: 12 => .. => Error: 12.229755182947592; Time taken: 0.0061604976654052734\n",
            "Epoch: 13 => .. => Error: 10.097513430036603; Time taken: 0.010900735855102539\n",
            "Epoch: 14 => .. => Error: 8.454181307272073; Time taken: 0.008246660232543945\n",
            "Epoch: 15 => .. => Error: 7.160944773864715; Time taken: 0.008189201354980469\n",
            "Epoch: 16 => .. => Error: 6.153710847897222; Time taken: 0.016185760498046875\n",
            "Epoch: 17 => .. => Error: 5.334145028674582; Time taken: 0.006855010986328125\n",
            "Epoch: 18 => .. => Error: 4.687509576456128; Time taken: 0.007697343826293945\n",
            "Epoch: 19 => .. => Error: 4.173026734488356; Time taken: 0.012262105941772461\n",
            "Epoch: 20 => .. => Error: 3.754529335100484; Time taken: 0.00855565071105957\n",
            "Epoch: 21 => .. => Error: 3.425245504512833; Time taken: 0.009281158447265625\n",
            "Epoch: 22 => .. => Error: 3.1399232442816785; Time taken: 0.008608341217041016\n",
            "Epoch: 23 => .. => Error: 2.9118315375035793; Time taken: 0.008514881134033203\n",
            "Epoch: 24 => .. => Error: 2.7238386200612346; Time taken: 0.010406494140625\n",
            "Epoch: 25 => .. => Error: 2.570508485493947; Time taken: 0.013791084289550781\n",
            "Epoch: 26 => .. => Error: 2.440608455030288; Time taken: 0.0059299468994140625\n",
            "Epoch: 27 => .. => Error: 2.3320217063713375; Time taken: 0.005987644195556641\n",
            "Epoch: 28 => .. => Error: 2.239612348209018; Time taken: 0.010284662246704102\n",
            "Epoch: 29 => .. => Error: 2.163523138627416; Time taken: 0.010505199432373047\n",
            "Epoch: 30 => .. => Error: 2.09873977631122; Time taken: 0.008936166763305664\n",
            "Epoch: 31 => .. => Error: 2.040389025575413; Time taken: 0.008348703384399414\n",
            "Epoch: 32 => .. => Error: 1.9908648440359618; Time taken: 0.009158849716186523\n",
            "Epoch: 33 => .. => Error: 1.9483343658616434; Time taken: 0.007678985595703125\n",
            "Epoch: 34 => .. => Error: 1.9106665265813227; Time taken: 0.007963180541992188\n",
            "Epoch: 35 => .. => Error: 1.8801230928347952; Time taken: 0.00809025764465332\n",
            "Epoch: 36 => .. => Error: 1.8504406319665057; Time taken: 0.00741124153137207\n",
            "Epoch: 37 => .. => Error: 1.8247839899085438; Time taken: 0.00833892822265625\n",
            "Epoch: 38 => .. => Error: 1.8021330691134279; Time taken: 0.006227016448974609\n",
            "Epoch: 39 => .. => Error: 1.7780151786446832; Time taken: 0.00975799560546875\n",
            "Epoch: 40 => .. => Error: 1.7617730486675593; Time taken: 0.008696317672729492\n",
            "Epoch: 41 => .. => Error: 1.742162201665297; Time taken: 0.006948709487915039\n",
            "Epoch: 42 => .. => Error: 1.7243592231707787; Time taken: 0.011663436889648438\n",
            "Epoch: 43 => .. => Error: 1.7082271205632849; Time taken: 0.013565540313720703\n",
            "Epoch: 44 => .. => Error: 1.6948994338286019; Time taken: 0.008708477020263672\n",
            "Epoch: 45 => .. => Error: 1.6790303232316395; Time taken: 0.009238243103027344\n",
            "Epoch: 46 => .. => Error: 1.6660759795770193; Time taken: 0.00963592529296875\n",
            "Epoch: 47 => .. => Error: 1.653939848645537; Time taken: 0.0065250396728515625\n",
            "Epoch: 48 => .. => Error: 1.6406556537681691; Time taken: 0.008591175079345703\n",
            "Epoch: 49 => .. => Error: 1.6303697917161413; Time taken: 0.011491537094116211\n",
            "Epoch: 50 => .. => Error: 1.6189924648514753; Time taken: 0.008411169052124023\n",
            "\n",
            "Final Weights and Biases after training\n",
            "\n"
          ],
          "name": "stdout"
        },
        {
          "output_type": "execute_result",
          "data": {
            "text/plain": [
              "Neural Network Architecture \n",
              "\n",
              "Input Layer=> \n",
              "[{My Bias = None | Incoming Weights: None}, {My Bias = None | Incoming Weights: None}, {My Bias = None | Incoming Weights: None}, {My Bias = None | Incoming Weights: None}] \n",
              "\n",
              "Hidden Layers=> [\n",
              "[{My Bias = -0.0803892874994408 | Incoming Weights: [0.34918589 0.0925053  0.33452877 0.14969134]}, {My Bias = -0.16309854688391218 | Incoming Weights: [ 0.58263959 -0.01770264  0.4123473   0.76679526]}, {My Bias = -0.15682835150602376 | Incoming Weights: [-0.13022629  0.07981838  0.30389934 -0.07223296]}, {My Bias = -0.06427290729160642 | Incoming Weights: [0.2489671  0.30187133 0.63835356 0.6299769 ]}], \n",
              "[{My Bias = -0.1099289972111727 | Incoming Weights: [0.3310099  0.6393085  0.85136054 0.01435284]}, {My Bias = -0.04451945598109543 | Incoming Weights: [0.52500206 0.9062311  0.8834904  0.8191352 ]}, {My Bias = -0.08776128681320511 | Incoming Weights: [ 0.07255536  0.18686658  0.066048   -0.0242616 ]}, {My Bias = -0.027967266261647493 | Incoming Weights: [0.17680993 0.65300632 0.03219546 0.38361134]}]] \n",
              "\n",
              "Output Layer=> \n",
              "[{My Bias = -0.12878520000264018 | Incoming Weights: [0.74866764 0.12234938 0.62955493 0.09576241]}] "
            ]
          },
          "metadata": {
            "tags": []
          },
          "execution_count": 9
        }
      ]
    },
    {
      "cell_type": "markdown",
      "metadata": {
        "id": "O7GBzAUod9TB"
      },
      "source": [
        "**XOR Sample training**"
      ]
    },
    {
      "cell_type": "code",
      "metadata": {
        "colab": {
          "base_uri": "https://localhost:8080/"
        },
        "id": "vtI7td5C-4hp",
        "outputId": "19ab8c57-d3c9-4ce4-8811-25a8ac670b09"
      },
      "source": [
        "np.random.seed(1) # Seeding for reproducibility\n",
        "xorNN = NN([2, 4, 1])\n",
        "xorNN"
      ],
      "execution_count": 10,
      "outputs": [
        {
          "output_type": "execute_result",
          "data": {
            "text/plain": [
              "Neural Network Architecture \n",
              "\n",
              "Input Layer=> \n",
              "[{My Bias = None | Incoming Weights: None}, {My Bias = None | Incoming Weights: None}] \n",
              "\n",
              "Hidden Layers=> [\n",
              "[{My Bias = 0.0 | Incoming Weights: [0.417022   0.14675589]}, {My Bias = 0.0 | Incoming Weights: [0.72032449 0.09233859]}, {My Bias = 0.0 | Incoming Weights: [1.14374817e-04 1.86260211e-01]}, {My Bias = 0.0 | Incoming Weights: [0.30233257 0.34556073]}]] \n",
              "\n",
              "Output Layer=> \n",
              "[{My Bias = 0.0 | Incoming Weights: [0.39676747 0.53881673 0.41919451 0.6852195 ]}] "
            ]
          },
          "metadata": {
            "tags": []
          },
          "execution_count": 10
        }
      ]
    },
    {
      "cell_type": "code",
      "metadata": {
        "colab": {
          "base_uri": "https://localhost:8080/"
        },
        "id": "QMMnfaUs_hHq",
        "outputId": "f476ba44-a733-4f3e-c2dd-07436fe902e0"
      },
      "source": [
        "xorNNerror = xorNN.fit(X_train_xor,y_train_xor, epochs = 100, learningRate = 1e-1, mini_batch_size=1)\n",
        "print(\"\\nFinal Weights and Biases after training\\n\")\n",
        "xorNN"
      ],
      "execution_count": 11,
      "outputs": [
        {
          "output_type": "stream",
          "text": [
            "Epoch: 1 => .... => Error: 1.1739212150954308; Time taken: 0.002924680709838867\n",
            "Epoch: 2 => .... => Error: 0.9302993177774549; Time taken: 0.00130462646484375\n",
            "Epoch: 3 => .... => Error: 0.9156660354820574; Time taken: 0.009354352951049805\n",
            "Epoch: 4 => .... => Error: 0.806539905837125; Time taken: 0.0049974918365478516\n",
            "Epoch: 5 => .... => Error: 0.7435458527545515; Time taken: 0.004085063934326172\n",
            "Epoch: 6 => .... => Error: 0.698988312429111; Time taken: 0.0058171749114990234\n",
            "Epoch: 7 => .... => Error: 0.6539260511802513; Time taken: 0.0027112960815429688\n",
            "Epoch: 8 => .... => Error: 0.6038137599882271; Time taken: 0.004849672317504883\n",
            "Epoch: 9 => .... => Error: 0.6078838325782276; Time taken: 0.0017006397247314453\n",
            "Epoch: 10 => .... => Error: 0.5626660115507242; Time taken: 0.0052225589752197266\n",
            "Epoch: 11 => .... => Error: 0.5520255929837462; Time taken: 0.0012476444244384766\n",
            "Epoch: 12 => .... => Error: 0.5221864636998907; Time taken: 0.008625984191894531\n",
            "Epoch: 13 => .... => Error: 0.5075641297075443; Time taken: 0.0012240409851074219\n",
            "Epoch: 14 => .... => Error: 0.5142688269014899; Time taken: 0.0075855255126953125\n",
            "Epoch: 15 => .... => Error: 0.464613453218073; Time taken: 0.006276130676269531\n",
            "Epoch: 16 => .... => Error: 0.4840279951123303; Time taken: 0.002819538116455078\n",
            "Epoch: 17 => .... => Error: 0.44922961325263455; Time taken: 0.009152889251708984\n",
            "Epoch: 18 => .... => Error: 0.43279901021399286; Time taken: 0.010864734649658203\n",
            "Epoch: 19 => .... => Error: 0.42879675714256027; Time taken: 0.0039060115814208984\n",
            "Epoch: 20 => .... => Error: 0.38979301034317737; Time taken: 0.003906726837158203\n",
            "Epoch: 21 => .... => Error: 0.4100176036031813; Time taken: 0.0030417442321777344\n",
            "Epoch: 22 => .... => Error: 0.3825188140646348; Time taken: 0.0037021636962890625\n",
            "Epoch: 23 => .... => Error: 0.3688259262096436; Time taken: 0.0012009143829345703\n",
            "Epoch: 24 => .... => Error: 0.3643516158975266; Time taken: 0.0066585540771484375\n",
            "Epoch: 25 => .... => Error: 0.33302855361162836; Time taken: 0.006005287170410156\n",
            "Epoch: 26 => .... => Error: 0.32877507739800316; Time taken: 0.0013337135314941406\n",
            "Epoch: 27 => .... => Error: 0.32521601836728875; Time taken: 0.0014922618865966797\n",
            "Epoch: 28 => .... => Error: 0.30085422587430904; Time taken: 0.0011990070343017578\n",
            "Epoch: 29 => .... => Error: 0.279776143019852; Time taken: 0.009992599487304688\n",
            "Epoch: 30 => .... => Error: 0.2675630124037616; Time taken: 0.011600017547607422\n",
            "Epoch: 31 => .... => Error: 0.256466551492126; Time taken: 0.0014526844024658203\n",
            "Epoch: 32 => .... => Error: 0.2457896805342969; Time taken: 0.0014369487762451172\n",
            "Epoch: 33 => .... => Error: 0.22989732078484007; Time taken: 0.0018477439880371094\n",
            "Epoch: 34 => .... => Error: 0.21894512761454582; Time taken: 0.0018618106842041016\n",
            "Epoch: 35 => .... => Error: 0.20199814113529435; Time taken: 0.001247406005859375\n",
            "Epoch: 36 => .... => Error: 0.19493446413057772; Time taken: 0.005940437316894531\n",
            "Epoch: 37 => .... => Error: 0.18266937097142638; Time taken: 0.004562854766845703\n",
            "Epoch: 38 => .... => Error: 0.16206340131476327; Time taken: 0.005242824554443359\n",
            "Epoch: 39 => .... => Error: 0.16211929487558097; Time taken: 0.005141735076904297\n",
            "Epoch: 40 => .... => Error: 0.13517168125376208; Time taken: 0.0060443878173828125\n",
            "Epoch: 41 => .... => Error: 0.13144982128067983; Time taken: 0.0048940181732177734\n",
            "Epoch: 42 => .... => Error: 0.1275788580181279; Time taken: 0.0017364025115966797\n",
            "Epoch: 43 => .... => Error: 0.11145284840821218; Time taken: 0.001209259033203125\n",
            "Epoch: 44 => .... => Error: 0.10936369913047678; Time taken: 0.0022411346435546875\n",
            "Epoch: 45 => .... => Error: 0.09647257948819601; Time taken: 0.000789642333984375\n",
            "Epoch: 46 => .... => Error: 0.08689722635335093; Time taken: 0.0007863044738769531\n",
            "Epoch: 47 => .... => Error: 0.07423623272110515; Time taken: 0.0008141994476318359\n",
            "Epoch: 48 => .... => Error: 0.07305848292362933; Time taken: 0.0012841224670410156\n",
            "Epoch: 49 => .... => Error: 0.05922626122903459; Time taken: 0.0010831356048583984\n",
            "Epoch: 50 => .... => Error: 0.05387223320822909; Time taken: 0.01207280158996582\n",
            "Epoch: 51 => .... => Error: 0.05470145251966004; Time taken: 0.006550788879394531\n",
            "Epoch: 52 => .... => Error: 0.04232785214319003; Time taken: 0.004931211471557617\n",
            "Epoch: 53 => .... => Error: 0.039935167806608156; Time taken: 0.01262044906616211\n",
            "Epoch: 54 => .... => Error: 0.03362336226051642; Time taken: 0.0013413429260253906\n",
            "Epoch: 55 => .... => Error: 0.031110318939179996; Time taken: 0.0011181831359863281\n",
            "Epoch: 56 => .... => Error: 0.029249519870906623; Time taken: 0.005120754241943359\n",
            "Epoch: 57 => .... => Error: 0.023772035519255538; Time taken: 0.0044252872467041016\n",
            "Epoch: 58 => .... => Error: 0.020505475581039108; Time taken: 0.0011658668518066406\n",
            "Epoch: 59 => .... => Error: 0.020651885108863476; Time taken: 0.007475376129150391\n",
            "Epoch: 60 => .... => Error: 0.016261400201371942; Time taken: 0.0006721019744873047\n",
            "Epoch: 61 => .... => Error: 0.014244318212879277; Time taken: 0.004451274871826172\n",
            "Epoch: 62 => .... => Error: 0.013621001541563626; Time taken: 0.005844831466674805\n",
            "Epoch: 63 => .... => Error: 0.012070442031826065; Time taken: 0.006429195404052734\n",
            "Epoch: 64 => .... => Error: 0.00984371937397852; Time taken: 0.0042841434478759766\n",
            "Epoch: 65 => .... => Error: 0.01039857629631231; Time taken: 0.0034875869750976562\n",
            "Epoch: 66 => .... => Error: 0.0077249042626819095; Time taken: 0.000978708267211914\n",
            "Epoch: 67 => .... => Error: 0.006772938182882177; Time taken: 0.0012731552124023438\n",
            "Epoch: 68 => .... => Error: 0.005724293961126604; Time taken: 0.017903804779052734\n",
            "Epoch: 69 => .... => Error: 0.005594439248111743; Time taken: 0.009713888168334961\n",
            "Epoch: 70 => .... => Error: 0.005193022886662358; Time taken: 0.004893064498901367\n",
            "Epoch: 71 => .... => Error: 0.003942666044408903; Time taken: 0.005078792572021484\n",
            "Epoch: 72 => .... => Error: 0.003827461107949718; Time taken: 0.0061626434326171875\n",
            "Epoch: 73 => .... => Error: 0.0035116191738789582; Time taken: 0.008507728576660156\n",
            "Epoch: 74 => .... => Error: 0.0029521202008639677; Time taken: 0.004130125045776367\n",
            "Epoch: 75 => .... => Error: 0.002530121533031599; Time taken: 0.0012862682342529297\n",
            "Epoch: 76 => .... => Error: 0.002327745042323162; Time taken: 0.007196903228759766\n",
            "Epoch: 77 => .... => Error: 0.0017755783545384941; Time taken: 0.004544258117675781\n",
            "Epoch: 78 => .... => Error: 0.001747736082588358; Time taken: 0.0045812129974365234\n",
            "Epoch: 79 => .... => Error: 0.0016604805548062931; Time taken: 0.0006716251373291016\n",
            "Epoch: 80 => .... => Error: 0.0012710684079143533; Time taken: 0.0006566047668457031\n",
            "Epoch: 81 => .... => Error: 0.001104005094165933; Time taken: 0.0019009113311767578\n",
            "Epoch: 82 => .... => Error: 0.0008908250614271473; Time taken: 0.007136106491088867\n",
            "Epoch: 83 => .... => Error: 0.0008799919484596839; Time taken: 0.009350061416625977\n",
            "Epoch: 84 => .... => Error: 0.0009048670605278254; Time taken: 0.0006647109985351562\n",
            "Epoch: 85 => .... => Error: 0.0007177427872542525; Time taken: 0.0006721019744873047\n",
            "Epoch: 86 => .... => Error: 0.0005567833811409215; Time taken: 0.0008766651153564453\n",
            "Epoch: 87 => .... => Error: 0.0005491372103159793; Time taken: 0.0029942989349365234\n",
            "Epoch: 88 => .... => Error: 0.0005277379657651203; Time taken: 0.007428169250488281\n",
            "Epoch: 89 => .... => Error: 0.0003890460183459096; Time taken: 0.001748800277709961\n",
            "Epoch: 90 => .... => Error: 0.0003697663332434159; Time taken: 0.0016131401062011719\n",
            "Epoch: 91 => .... => Error: 0.00036450404345170044; Time taken: 0.0035305023193359375\n",
            "Epoch: 92 => .... => Error: 0.00028150430654331153; Time taken: 0.004159688949584961\n",
            "Epoch: 93 => .... => Error: 0.00022875499297720072; Time taken: 0.002477884292602539\n",
            "Epoch: 94 => .... => Error: 0.000206287914157973; Time taken: 0.0018770694732666016\n",
            "Epoch: 95 => .... => Error: 0.00020742129624869252; Time taken: 0.012063026428222656\n",
            "Epoch: 96 => .... => Error: 0.00016775820629860613; Time taken: 0.0017008781433105469\n",
            "Epoch: 97 => .... => Error: 0.0001896784056771383; Time taken: 0.0014851093292236328\n",
            "Epoch: 98 => .... => Error: 0.0001301106172041655; Time taken: 0.006392240524291992\n",
            "Epoch: 99 => .... => Error: 0.00013407167233645993; Time taken: 0.005223274230957031\n",
            "Epoch: 100 => .... => Error: 0.00012469596413542522; Time taken: 0.00495600700378418\n",
            "\n",
            "Final Weights and Biases after training\n",
            "\n"
          ],
          "name": "stdout"
        },
        {
          "output_type": "execute_result",
          "data": {
            "text/plain": [
              "Neural Network Architecture \n",
              "\n",
              "Input Layer=> \n",
              "[{My Bias = None | Incoming Weights: None}, {My Bias = None | Incoming Weights: None}] \n",
              "\n",
              "Hidden Layers=> [\n",
              "[{My Bias = -0.00018583283458286455 | Incoming Weights: [0.22375846 0.02314295]}, {My Bias = 0.0003641611467616586 | Incoming Weights: [ 0.8843456  -0.88636131]}, {My Bias = 9.96420160869853e-05 | Incoming Weights: [-0.8202682   0.81741735]}, {My Bias = 7.211968794891565e-05 | Incoming Weights: [-0.13434171  0.13347095]}]] \n",
              "\n",
              "Output Layer=> \n",
              "[{My Bias = 0.0011216167959210474 | Incoming Weights: [0.04713602 1.11352813 1.1580428  0.35748617]}] "
            ]
          },
          "metadata": {
            "tags": []
          },
          "execution_count": 11
        }
      ]
    },
    {
      "cell_type": "markdown",
      "metadata": {
        "id": "5w8BbQT1RJ61"
      },
      "source": [
        "## Testing the trained Neural Network"
      ]
    },
    {
      "cell_type": "markdown",
      "metadata": {
        "id": "XpZYEFkf1voJ"
      },
      "source": [
        "**Iris Dataset**\n",
        "\n",
        "We can see the testing error is 0, that means the Neural network was able to converge and perform really well for binary classification on the dataset with 4 input features."
      ]
    },
    {
      "cell_type": "code",
      "metadata": {
        "colab": {
          "base_uri": "https://localhost:8080/"
        },
        "id": "BPKiwzU1C9_C",
        "outputId": "1abe22a3-1a4b-4680-d5f7-713876050c14"
      },
      "source": [
        "myNN.feedForward(X_test)\n",
        "classifiedOutput = np.array([[myNN.classify2(a) for a in myNN.output_layer.activated_output]]).T\n",
        "test_error = myNN.squaredError(classifiedOutput*targetNorm,y_test*targetNorm)\n",
        "print(f\"Error on the testing dataset: {test_error}\")"
      ],
      "execution_count": 12,
      "outputs": [
        {
          "output_type": "stream",
          "text": [
            "Error on the testing dataset: 0.0\n"
          ],
          "name": "stdout"
        }
      ]
    },
    {
      "cell_type": "markdown",
      "metadata": {
        "id": "nEdsX9cbfGq3"
      },
      "source": [
        "The 2 plots show the classification done by the neural network and the given classes."
      ]
    },
    {
      "cell_type": "code",
      "metadata": {
        "colab": {
          "base_uri": "https://localhost:8080/",
          "height": 639
        },
        "id": "7VVWEq904g-M",
        "outputId": "9ec6f98d-6814-4a64-ab74-5e9b98631ba0"
      },
      "source": [
        "fig, axs = plt.subplots(2, figsize=(10,10))\n",
        "\n",
        "axs[0].set_title(\"Iris Dataset Original\")\n",
        "axs[0].scatter(ndf['SepalLengthCm'], ndf['SepalWidthCm'], 50, c=ndf['encoded_Species'])\n",
        "axs[0].set_ylabel('Sepal Width (cm)')\n",
        "\n",
        "myNN.feedForward(X)\n",
        "classifiedOutput_X = np.array([[myNN.classify2(a) for a in myNN.output_layer.activated_output]]).T\n",
        "\n",
        "axs[1].set_title(\"NN Classification\")\n",
        "axs[1].scatter(ndf['SepalLengthCm'], ndf['SepalWidthCm'], 50, c=classifiedOutput_X)\n",
        "axs[1].set_ylabel('Sepal Width (cm)')\n",
        "axs[1].set_xlabel('Sepal Length (cm)')"
      ],
      "execution_count": 13,
      "outputs": [
        {
          "output_type": "execute_result",
          "data": {
            "text/plain": [
              "Text(0.5, 0, 'Sepal Length (cm)')"
            ]
          },
          "metadata": {
            "tags": []
          },
          "execution_count": 13
        },
        {
          "output_type": "display_data",
          "data": {
            "image/png": "[encoded data removed]",
            "text/plain": [
              "<Figure size 720x720 with 2 Axes>"
            ]
          },
          "metadata": {
            "tags": [],
            "needs_background": "light"
          }
        }
      ]
    },
    {
      "cell_type": "markdown",
      "metadata": {
        "id": "eW9TvMdz1xXk"
      },
      "source": [
        "**XOR output**\n",
        "\n",
        "We can see the Neural network was able to learn the non-linear XOR function using a linear activation function."
      ]
    },
    {
      "cell_type": "code",
      "metadata": {
        "id": "bmilCEBn3jH9",
        "colab": {
          "base_uri": "https://localhost:8080/"
        },
        "outputId": "a73e3942-ad45-42ae-fd8f-57bc36f8d0de"
      },
      "source": [
        "nInp = [0,1]\n",
        "xorNN.feedForward([nInp])\n",
        "print(f\"For Input {nInp} => Prediction: {xorNN.classify(xorNN.output_layer.activated_output[0])} => Actual Output: {nInp[0]^nInp[1]}\\n\")\n",
        "xorNN.feedForward(X_train_xor)\n",
        "print(f\"All Inputs: {X_train_xor} \\nPredicted Outputs: {[xorNN.classify(a) for a in xorNN.output_layer.activated_output]}; Actual Outputs: {y_train_xor.T}\")"
      ],
      "execution_count": 14,
      "outputs": [
        {
          "output_type": "stream",
          "text": [
            "For Input [0, 1] => Prediction: 1 => Actual Output: 1\n",
            "\n",
            "All Inputs: [[0 0]\n",
            " [0 1]\n",
            " [1 0]\n",
            " [1 1]] \n",
            "Predicted Outputs: [0, 1, 1, 0]; Actual Outputs: [[0 1 1 0]]\n"
          ],
          "name": "stdout"
        }
      ]
    },
    {
      "cell_type": "markdown",
      "metadata": {
        "id": "WUoOtYcJRQ8I"
      },
      "source": [
        "## Error analysis"
      ]
    },
    {
      "cell_type": "markdown",
      "metadata": {
        "id": "IIYnVXTaAR2Z"
      },
      "source": [
        "Iris dataset loss function\n",
        "\n",
        "From the graph we can see there is a smooth convergence, that is loss minimization with every epoch, the network kind of reaches the minimum around the 20th epoch and the error doesnt change much from there."
      ]
    },
    {
      "cell_type": "code",
      "metadata": {
        "colab": {
          "base_uri": "https://localhost:8080/",
          "height": 530
        },
        "id": "vQhcCKT6H87G",
        "outputId": "444944eb-5299-495d-c80a-d3881aaac5fc"
      },
      "source": [
        "plt.figure(figsize=(20,8))\n",
        "plt.title(\"Iris Dataset: Error Convergence\")\n",
        "ax = plt.plot(range(50), myNNerror)\n",
        "plt.ylabel('Loss')\n",
        "plt.xlabel('Epochs')"
      ],
      "execution_count": 15,
      "outputs": [
        {
          "output_type": "execute_result",
          "data": {
            "text/plain": [
              "Text(0.5, 0, 'Epochs')"
            ]
          },
          "metadata": {
            "tags": []
          },
          "execution_count": 15
        },
        {
          "output_type": "display_data",
          "data": {
            "image/png": "[encoded data removed]",
            "text/plain": [
              "<Figure size 1440x576 with 1 Axes>"
            ]
          },
          "metadata": {
            "tags": [],
            "needs_background": "light"
          }
        }
      ]
    },
    {
      "cell_type": "markdown",
      "metadata": {
        "id": "SluVG9yjAO1e"
      },
      "source": [
        "XOR Loss function\n",
        "\n",
        "The XOR convergence looks interesting, the curve changes a lot based on the learning rate and the batch size used. The given curve is with a batch size of 1 (Like Stochastic Gradient Descent) and a learning rate of 0.1. The network reaches the minimum for the loss function around 60th-70th epoch and doesnt change much from there."
      ]
    },
    {
      "cell_type": "code",
      "metadata": {
        "colab": {
          "base_uri": "https://localhost:8080/",
          "height": 530
        },
        "id": "VFrPaAlcAHl_",
        "outputId": "6f7eb739-4c99-4345-a81e-b0226eb6b836"
      },
      "source": [
        "plt.figure(figsize=(20,8))\n",
        "plt.title(\"XOR: Error Convergence\")\n",
        "ax = plt.plot(range(100), xorNNerror)\n",
        "plt.ylabel('Loss')\n",
        "plt.xlabel('Epochs')"
      ],
      "execution_count": 16,
      "outputs": [
        {
          "output_type": "execute_result",
          "data": {
            "text/plain": [
              "Text(0.5, 0, 'Epochs')"
            ]
          },
          "metadata": {
            "tags": []
          },
          "execution_count": 16
        },
        {
          "output_type": "display_data",
          "data": {
            "image/png": "[encoded data removed]",
            "text/plain": [
              "<Figure size 1440x576 with 1 Axes>"
            ]
          },
          "metadata": {
            "tags": [],
            "needs_background": "light"
          }
        }
      ]
    },
    {
      "cell_type": "markdown",
      "metadata": {
        "id": "T-1ziM4NRa8-"
      },
      "source": [
        "**Observations:**\n",
        "For a simple perceptron network, learning y = 5*x required a very small learning rate, as with gradient descent it was taking very big steps and never converging to a weight of 5.\n",
        "\n",
        "For XOR sample data, using ReLU activation function, a simple network with 2 inputs, 2 hidden layer and 1 output layer didnt learn the non linearity for the XOR function where sigmoid/tanh have been shown to learn the non-linearity with that architecture. Whereas a model architecture of 2 inputs, 4 hidden layers, and 1 output layer using ReLU was able to converge to a very low error in 100 epochs with a learning rate of 0.1.\n",
        "\n",
        "**Conclusion:** Neural Netowrks are pretty robust for many applications, while the functionality and the math behind the network is all linear but a combination of these linear nodes (ReLU activation) are able to adjust for the non-linearity required for many diffrent applications. The XOR function is an example where a NN is able to create a non-linear boundary where as any linear estimation will fail (a simple perceptron network will fail)\n",
        "\n",
        "**Future work:** Implementaion of Binary Cross entropy or Cross entropy for the error/loss functions for classification will be an improvement. \n"
      ]
    }
  ]
}